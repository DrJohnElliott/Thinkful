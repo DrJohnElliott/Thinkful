{
 "cells": [
  {
   "cell_type": "code",
   "execution_count": 1,
   "metadata": {
    "collapsed": false
   },
   "outputs": [],
   "source": [
    "%matplotlib inline"
   ]
  },
  {
   "cell_type": "markdown",
   "metadata": {},
   "source": [
    "\n",
    "# Restricted Boltzmann Machine features for digit classification\n",
    "\n",
    "\n",
    "For greyscale image data where pixel values can be interpreted as degrees of\n",
    "blackness on a white background, like handwritten digit recognition, the\n",
    "Bernoulli Restricted Boltzmann machine model (:class:`BernoulliRBM\n",
    "<sklearn.neural_network.BernoulliRBM>`) can perform effective non-linear\n",
    "feature extraction.\n",
    "\n",
    "In order to learn good latent representations from a small dataset, we\n",
    "artificially generate more labeled data by perturbing the training data with\n",
    "linear shifts of 1 pixel in each direction.\n",
    "\n",
    "This example shows how to build a classification pipeline with a BernoulliRBM\n",
    "feature extractor and a :class:`LogisticRegression\n",
    "<sklearn.linear_model.LogisticRegression>` classifier. The hyperparameters\n",
    "of the entire model (learning rate, hidden layer size, regularization)\n",
    "were optimized by grid search, but the search is not reproduced here because\n",
    "of runtime constraints.\n",
    "\n",
    "Logistic regression on raw pixel values is presented for comparison. The\n",
    "example shows that the features extracted by the BernoulliRBM help improve the\n",
    "classification accuracy.\n",
    "\n"
   ]
  },
  {
   "cell_type": "code",
   "execution_count": 1,
   "metadata": {
    "collapsed": false
   },
   "outputs": [
    {
     "name": "stdout",
     "output_type": "stream",
     "text": [
      "Automatically created module for IPython interactive environment\n"
     ]
    }
   ],
   "source": [
    "from __future__ import print_function\n",
    "\n",
    "print(__doc__)\n",
    "\n",
    "# Authors: Yann N. Dauphin, Vlad Niculae, Gabriel Synnaeve\n",
    "# License: BSD\n",
    "import pandas as pd\n",
    "import numpy as np\n",
    "import operator\n",
    "import matplotlib.pyplot as plt\n",
    "from PIL import Image as PImage\n",
    "from scipy.ndimage import convolve\n",
    "from sklearn import linear_model, datasets, metrics\n",
    "from sklearn.model_selection import train_test_split\n",
    "from sklearn.neural_network import BernoulliRBM\n",
    "from sklearn.pipeline import Pipeline\n",
    "from sklearn.base import clone\n",
    "\n",
    "\n",
    "# #############################################################################\n",
    "# Setting up\n",
    "\n",
    "def cropND(img, bounding):\n",
    "    start = tuple(map(lambda a, da: a//2-da//2, img.shape, bounding))\n",
    "    end = tuple(map(operator.add, start, bounding))\n",
    "    slices = tuple(map(slice, start, end))\n",
    "    return img[slices]\n",
    "    def shift(x, w):\n",
    "        return convolve(x.reshape((8, 8)), mode='constant', weights=w).ravel()\n",
    "\n",
    "    X = np.concatenate([X] +\n",
    "                       [np.apply_along_axis(shift, 1, X, vector)\n",
    "                        for vector in direction_vectors])\n",
    "    Y = np.concatenate([Y for _ in range(5)], axis=0)\n",
    "    return X, Y\n",
    "\n"
   ]
  },
  {
   "cell_type": "code",
   "execution_count": 2,
   "metadata": {},
   "outputs": [],
   "source": [
    "import resource\n",
    "soft, hard = resource.getrlimit(resource.RLIMIT_NOFILE)\n",
    "resource.setrlimit(resource.RLIMIT_NOFILE, (hard, hard))"
   ]
  },
  {
   "cell_type": "code",
   "execution_count": 9,
   "metadata": {},
   "outputs": [],
   "source": [
    "from os import listdir\n",
    "from os import path\n",
    "import cv2\n",
    "from PIL import Image as PImage\n",
    "import os\n",
    "\n",
    "\n",
    "def loadImages(path):\n",
    "    # return array of images\n",
    "    imagesList = [os.path.join(img_path, f) for f in os.listdir(img_path)]\n",
    "    imagesList = [i for i in imagesList if os.path.isfile(i)]\n",
    "       \n",
    "    #imagesList = listdir(path)\n",
    "    loadedImages = []\n",
    "    for image in imagesList[:1]:\n",
    "        #img = PImage.open(image)\n",
    "        img = cv2.imread(image, 0)\n",
    "        y=300\n",
    "        x=250\n",
    "        h=500\n",
    "        w=500\n",
    "        crop = img[y:y+h, x:x+w]\n",
    "        # cv2.imshow('Image', crop)\n",
    "        # cv2.waitKey(0)\n",
    "        #img_data = np.asarray(img, 'float32') #float32\n",
    "        img_data = cv2.resize(crop, (512,512), interpolation=cv2.INTER_CUBIC)\n",
    "        \n",
    "        img_data = np.asarray(img_data, 'float32') #float32\n",
    "        img_data = img_data.reshape(-1)\n",
    "\n",
    "        loadedImages.append(img_data)\n",
    "       \n",
    "    return loadedImages\n",
    "\n",
    "\n"
   ]
  },
  {
   "cell_type": "code",
   "execution_count": null,
   "metadata": {},
   "outputs": [],
   "source": [
    "img_path = \"chest_xray/train/NORMAL/\"\n",
    "pos_img_path = \"chest_xray/train/PNEUMONIA/\"\n",
    "# your images in an array\n",
    "norm_imgs = np.asarray(loadImages(img_path))\n",
    "pos_imgs = np.asarray(loadImages(pos_img_path))\n",
    "\n"
   ]
  },
  {
   "cell_type": "code",
   "execution_count": 5,
   "metadata": {},
   "outputs": [],
   "source": [
    "#X = np.asarray(imgs, 'float32')\n",
    "Y_norm = np.full((1, len(norm_imgs)), 0, dtype='int')\n",
    "X_norm = np.array(norm_imgs)\n",
    "Y_pos = np.full((1, len(pos_imgs)), 1, dtype='int')\n",
    "X_pos = np.array(pos_imgs)\n",
    "\n",
    "X = np.concatenate((X_norm, X_pos))\n",
    "Y = np.concatenate((Y_norm, Y_pos))\n",
    "\n",
    "\n",
    "# loadedImages.append(img_data)\n",
    "Y = Y.reshape(-1)\n",
    "#nsamples, nx, ny = X.shape\n",
    "#d2_train_dataset = X.reshape((nsamples,nx*ny))\n",
    "X_train, X_test, Y_train, Y_test = train_test_split(\n",
    "    X, Y, test_size=0.2, random_state=0)\n"
   ]
  },
  {
   "cell_type": "code",
   "execution_count": 6,
   "metadata": {},
   "outputs": [
    {
     "data": {
      "text/plain": [
       "(200, 262144)"
      ]
     },
     "execution_count": 6,
     "metadata": {},
     "output_type": "execute_result"
    }
   ],
   "source": [
    "X.shape"
   ]
  },
  {
   "cell_type": "code",
   "execution_count": 7,
   "metadata": {},
   "outputs": [
    {
     "data": {
      "text/plain": [
       "(200,)"
      ]
     },
     "execution_count": 7,
     "metadata": {},
     "output_type": "execute_result"
    }
   ],
   "source": [
    "Y.shape"
   ]
  },
  {
   "cell_type": "code",
   "execution_count": 8,
   "metadata": {},
   "outputs": [
    {
     "data": {
      "text/plain": [
       "200"
      ]
     },
     "execution_count": 8,
     "metadata": {},
     "output_type": "execute_result"
    }
   ],
   "source": [
    "len(Y)"
   ]
  },
  {
   "cell_type": "code",
   "execution_count": 10,
   "metadata": {},
   "outputs": [
    {
     "name": "stdout",
     "output_type": "stream",
     "text": [
      "[BernoulliRBM] Iteration 1, pseudo-likelihood = 0.00, time = 1.82s\n",
      "[BernoulliRBM] Iteration 2, pseudo-likelihood = 0.00, time = 2.38s\n",
      "[BernoulliRBM] Iteration 3, pseudo-likelihood = 0.00, time = 2.11s\n",
      "[BernoulliRBM] Iteration 4, pseudo-likelihood = 0.00, time = 1.83s\n",
      "[BernoulliRBM] Iteration 5, pseudo-likelihood = 0.00, time = 1.87s\n",
      "[BernoulliRBM] Iteration 6, pseudo-likelihood = 0.00, time = 1.87s\n",
      "[BernoulliRBM] Iteration 7, pseudo-likelihood = 0.00, time = 1.83s\n",
      "[BernoulliRBM] Iteration 8, pseudo-likelihood = 0.00, time = 1.84s\n",
      "[BernoulliRBM] Iteration 9, pseudo-likelihood = 0.00, time = 1.88s\n",
      "[BernoulliRBM] Iteration 10, pseudo-likelihood = 0.00, time = 1.85s\n",
      "[BernoulliRBM] Iteration 11, pseudo-likelihood = 0.00, time = 1.87s\n",
      "[BernoulliRBM] Iteration 12, pseudo-likelihood = 0.00, time = 1.83s\n",
      "[BernoulliRBM] Iteration 13, pseudo-likelihood = 0.00, time = 1.83s\n",
      "[BernoulliRBM] Iteration 14, pseudo-likelihood = 0.00, time = 1.85s\n",
      "[BernoulliRBM] Iteration 15, pseudo-likelihood = 0.00, time = 1.83s\n",
      "[BernoulliRBM] Iteration 16, pseudo-likelihood = 0.00, time = 1.88s\n",
      "[BernoulliRBM] Iteration 17, pseudo-likelihood = 0.00, time = 1.83s\n",
      "[BernoulliRBM] Iteration 18, pseudo-likelihood = 0.00, time = 1.84s\n",
      "[BernoulliRBM] Iteration 19, pseudo-likelihood = 0.00, time = 1.84s\n",
      "[BernoulliRBM] Iteration 20, pseudo-likelihood = 0.00, time = 1.82s\n"
     ]
    },
    {
     "name": "stderr",
     "output_type": "stream",
     "text": [
      "/home/john/python3_virtualenv/python3_env/lib/python3.6/site-packages/sklearn/metrics/classification.py:1143: UndefinedMetricWarning: Precision and F-score are ill-defined and being set to 0.0 in labels with no predicted samples.\n",
      "  'precision', 'predicted', average, warn_for)\n"
     ]
    },
    {
     "name": "stdout",
     "output_type": "stream",
     "text": [
      "Logistic regression using RBM features:\n",
      "              precision    recall  f1-score   support\n",
      "\n",
      "           0       0.45      1.00      0.62        18\n",
      "           1       0.00      0.00      0.00        22\n",
      "\n",
      "   micro avg       0.45      0.45      0.45        40\n",
      "   macro avg       0.23      0.50      0.31        40\n",
      "weighted avg       0.20      0.45      0.28        40\n",
      "\n",
      "\n",
      "Logistic regression using raw pixel features:\n",
      "              precision    recall  f1-score   support\n",
      "\n",
      "           0       0.13      0.17      0.15        18\n",
      "           1       0.12      0.09      0.10        22\n",
      "\n",
      "   micro avg       0.12      0.12      0.12        40\n",
      "   macro avg       0.12      0.13      0.12        40\n",
      "weighted avg       0.12      0.12      0.12        40\n",
      "\n",
      "\n"
     ]
    },
    {
     "data": {
      "image/png": "[encoded data removed]",
      "text/plain": [
       "<Figure size 576x1152 with 2 Axes>"
      ]
     },
     "metadata": {},
     "output_type": "display_data"
    }
   ],
   "source": [
    "# Models we will use\n",
    "logistic = linear_model.LogisticRegression(solver='lbfgs', max_iter=10000,\n",
    "                                           multi_class='multinomial')\n",
    "rbm = BernoulliRBM(random_state=0, verbose=True)\n",
    "\n",
    "rbm_features_classifier = Pipeline(\n",
    "    steps=[('rbm', rbm), ('logistic', logistic)])\n",
    "\n",
    "# #############################################################################\n",
    "# Training\n",
    "\n",
    "# Hyper-parameters. These were set by cross-validation,\n",
    "# using a GridSearchCV. Here we are not performing cross-validation to\n",
    "# save time.\n",
    "rbm.learning_rate = 0.06\n",
    "rbm.n_iter = 20\n",
    "# More components tend to give better prediction performance, but larger\n",
    "# fitting time\n",
    "rbm.n_components = 2\n",
    "logistic.C = 6000\n",
    "\n",
    "# Training RBM-Logistic Pipeline\n",
    "rbm_features_classifier.fit(X_train, Y_train)\n",
    "\n",
    "# Training the Logistic regression classifier directly on the pixel\n",
    "raw_pixel_classifier = clone(logistic)\n",
    "raw_pixel_classifier.C = 100.\n",
    "raw_pixel_classifier.fit(X_train, Y_train)\n",
    "\n",
    "# #############################################################################\n",
    "# Evaluation\n",
    "\n",
    "Y_pred = rbm_features_classifier.predict(X_test)\n",
    "print(\"Logistic regression using RBM features:\\n%s\\n\" % (\n",
    "    metrics.classification_report(Y_test, Y_pred)))\n",
    "\n",
    "Y_pred = raw_pixel_classifier.predict(X_test)\n",
    "print(\"Logistic regression using raw pixel features:\\n%s\\n\" % (\n",
    "    metrics.classification_report(Y_test, Y_pred)))\n",
    "\n",
    "# #############################################################################\n",
    "# Plotting\n",
    "\n",
    "plt.figure(figsize=(16, 32))\n",
    "for i, comp in enumerate(rbm.components_):\n",
    "    plt.subplot(1, 2, i + 1)\n",
    "    plt.imshow(comp.reshape((512, 512)), cmap=plt.cm.gray_r,\n",
    "               interpolation='nearest')\n",
    "    plt.xticks(())\n",
    "    plt.yticks(())\n",
    "plt.suptitle('2 components extracted by RBM', fontsize=16)\n",
    "#plt.subplots_adjust(0.08, 0.02, 0.92, 0.85, 0.08, 0.23)\n",
    "\n",
    "plt.show()"
   ]
  },
  {
   "cell_type": "code",
   "execution_count": null,
   "metadata": {},
   "outputs": [],
   "source": []
  },
  {
   "cell_type": "code",
   "execution_count": null,
   "metadata": {},
   "outputs": [],
   "source": [
    "\n"
   ]
  },
  {
   "cell_type": "code",
   "execution_count": null,
   "metadata": {},
   "outputs": [],
   "source": []
  }
 ],
 "metadata": {
  "kernelspec": {
   "display_name": "Python 3",
   "language": "python",
   "name": "python3"
  },
  "language_info": {
   "codemirror_mode": {
    "name": "ipython",
    "version": 3
   },
   "file_extension": ".py",
   "mimetype": "text/x-python",
   "name": "python",
   "nbconvert_exporter": "python",
   "pygments_lexer": "ipython3",
   "version": "3.6.7"
  }
 },
 "nbformat": 4,
 "nbformat_minor": 2
}
