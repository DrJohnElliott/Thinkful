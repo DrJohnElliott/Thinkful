{
 "cells": [
  {
   "cell_type": "markdown",
   "metadata": {},
   "source": [
    "In experiments, bias refers to anything that causes a sample to systematically differ from the population. Bias can come from a) the sampling procedure, b) the assignment to conditions procedure, c) the context of the study, or d) the people running the study."
   ]
  },
  {
   "cell_type": "markdown",
   "metadata": {},
   "source": [
    "### DRILL: Am I Biased?\n",
    "For each of the following scenarios, call out the potential biases in the proposed experiment. Do your best to try to discover not only the bias, but the initial design. There is plenty of room for interpretation here, so make sure to state what assumptions you're making.\n",
    "\n",
    "1) You're testing advertising emails for a bathing suit company and you test one version of the email in February and the other in May.\n",
    "**Testing Method:** The month sent out creates a bias in how may swim suits are sold \n",
    "\n",
    "\n",
    "2) You open a clinic to treat anxiety and find that the people who visit show a higher rate of anxiety than the general population.\n",
    "**Testing Method:** how is the general population measured in comparison to someone who visits an anxiety clinic.\n",
    "\n",
    "3) You launch a new ad billboard based campaign and see an increase in website visits in the first week.\n",
    "**Context:** Is there any website distribution \"click adds\", word of mouth or any other activity that would influence results \n",
    "\n",
    "4) You launch a loyalty program but see no change in visits in the first week.\n",
    "**assignment:** what is the average return visit, retention, weather conditions, holiday\n",
    "\n"
   ]
  },
  {
   "cell_type": "code",
   "execution_count": null,
   "metadata": {},
   "outputs": [],
   "source": []
  }
 ],
 "metadata": {
  "kernelspec": {
   "display_name": "Python 3",
   "language": "python",
   "name": "python3"
  },
  "language_info": {
   "codemirror_mode": {
    "name": "ipython",
    "version": 3
   },
   "file_extension": ".py",
   "mimetype": "text/x-python",
   "name": "python",
   "nbconvert_exporter": "python",
   "pygments_lexer": "ipython3",
   "version": "3.6.7"
  }
 },
 "nbformat": 4,
 "nbformat_minor": 2
}
