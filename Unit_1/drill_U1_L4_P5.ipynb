{
 "cells": [
  {
   "cell_type": "markdown",
   "metadata": {},
   "source": [
    "# DRILL: Make a quick research proposal\n",
    "#### Look back to the potential experiments in the previous assignment. \n",
    "#### For one of those experiments, write up the essential points of a research proposal for an improved version of that experiment.\n",
    "\n",
    "#### Experiment: To prevent cheating, a teacher writes three versions of a test.\n",
    "\n",
    "\n",
    "\n",
    "## The problem\n",
    "\n",
    "How to determine if the three exams are equal in their difficulty.\n",
    "\n",
    "## The potential solution\n",
    "Distribute the exams to like groups to determine if there is a correlation of the results to the exam taken.\n",
    "\n",
    "\n",
    "## The method of testing the solution\n",
    "To test the hypothesis that the exams difficulty are evenly distributed they need to have an equal distribution based on student performance.\n",
    "* First the student population is divided into groups based on a their prior performance. \n",
    "* Assuming there are greater than 30 students they could be divided into 3 groups of low average and high performing students.\n",
    "* All three exams will be evenly distributed among each group of students.\n",
    "* To determine if the exams are equally difficult all groups scores will be examined across the groups.\n",
    "* If a bias is seen across all groups then the exam will be deemed biased and discarded \n"
   ]
  }
 ],
 "metadata": {
  "kernelspec": {
   "display_name": "Python 3",
   "language": "python",
   "name": "python3"
  },
  "language_info": {
   "codemirror_mode": {
    "name": "ipython",
    "version": 3
   },
   "file_extension": ".py",
   "mimetype": "text/x-python",
   "name": "python",
   "nbconvert_exporter": "python",
   "pygments_lexer": "ipython3",
   "version": "3.6.7"
  }
 },
 "nbformat": 4,
 "nbformat_minor": 2
}
