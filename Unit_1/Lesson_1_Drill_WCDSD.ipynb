{
 "cells": [
  {
   "cell_type": "markdown",
   "metadata": {},
   "source": [
    "## Unit 1 drill\n",
    "\n",
    "#### Question 1\n",
    "You work at an e-commerce company that sells three goods: widgets, doodads, and fizzbangs. The head of advertising asks you which they should feature in their new\n",
    "advertising campaign. You have data on individual visitors' sessions (activity on a website, pageviews, and purchases), as well as whether or not those users converted from an advertisement for that session. You also have the cost and price information for the goods."
   ]
  },
  {
   "cell_type": "markdown",
   "metadata": {},
   "source": [
    "# Discussion 1\n",
    "\n",
    "To decide which item should be featured in a new advertising campaign, the available data is first organized in a table to characterize and display their online performance. In addition to the online performance, additional columns for item's profitability (price - cost). Armed with this data you could predict (based on previous performance) what the potential profits for each item would be. Additional questions or data that may also be relevant: what current inventory levels or supply chain restraints are present.\n"
   ]
  },
  {
   "cell_type": "markdown",
   "metadata": {},
   "source": [
    "#### Question 2\n",
    "\n",
    "You work at a web design company that offers to build websites for clients. Signups have slowed, and you are tasked with finding out why. The onboarding funnel has three steps: email and password signup, plan choice, and payment. On a user level you have information on what steps they have completed as well as timestamps for all of those events for the past 3 years. You also have information on marketing spend on a weekly level."
   ]
  },
  {
   "cell_type": "markdown",
   "metadata": {},
   "source": [
    "#### Discussion 2\n",
    "\n",
    "First looking at available data the meta data from the onboarding funnel could be sorted into weekly totals for the three activities. This data can be compared now with the marketing spend for that week. The connection to the payment and market spend could be shown by their calculated correlation. Additional information that may also be relevant is: Were there changes in pricing? Were there changes in the website design, complexity of the form or products offered? Is there available data on the market in question?"
   ]
  },
  {
   "cell_type": "markdown",
   "metadata": {},
   "source": [
    "#### Question 3\n",
    "You work at a hotel website and currently the website ranks search results by price. For simplicity's sake, let's say it's a website for one city with 100 hotels. You are tasked with proposing a better ranking system. You have session information, price information for the hotels, and whether each hotel is currently available."
   ]
  },
  {
   "cell_type": "markdown",
   "metadata": {},
   "source": [
    "#### Discussion 3\n",
    "\n",
    "Using the Session data the 100 hotels could be ranked by frequency of people booking reservations at the hotel. This could be combined with price and group hotels with similar pricing. Next filter by availability to display available top ranked hotels. Another method could be to rank by percent discounted from the hotels regular rate."
   ]
  },
  {
   "cell_type": "markdown",
   "metadata": {},
   "source": [
    "#### Question 4\n",
    "\n",
    "You work at a social network, and the management is worried about churn (users stopping using the product). You are tasked with finding out if their churn is atypical. You have three years of data for users with an entry for every time they've logged in, including the timestamp and length of session."
   ]
  },
  {
   "cell_type": "markdown",
   "metadata": {},
   "source": [
    "#### Discussion 4\n",
    "\n",
    "Here the user characteristics need to be defined. The overall central tendency on number of logins and time off session. Then a characterization of the users based on time since signup: year 1, year 2 and year three comparisons. Does the typical user activity slow or stop after year 2?\n"
   ]
  }
 ],
 "metadata": {
  "kernelspec": {
   "display_name": "Python 3",
   "language": "python",
   "name": "python3"
  },
  "language_info": {
   "codemirror_mode": {
    "name": "ipython",
    "version": 3
   },
   "file_extension": ".py",
   "mimetype": "text/x-python",
   "name": "python",
   "nbconvert_exporter": "python",
   "pygments_lexer": "ipython3",
   "version": "3.6.7"
  }
 },
 "nbformat": 4,
 "nbformat_minor": 2
}
