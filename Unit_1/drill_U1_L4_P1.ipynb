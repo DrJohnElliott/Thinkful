{
 "cells": [
  {
   "cell_type": "markdown",
   "metadata": {},
   "source": [
    "#### Five Parts of an A/B test\n",
    "\n",
    "**Two versions of something whose effects will be compared**. Typically one version is a \"control version,\" often already in use (or \"no intervention\"), and one is a \"test version,\" which has some changes from the control. That change is often called the treatment. If starting from scratch, however, you may have two different test versions to compare to each other.\n",
    "\n",
    "**A sample, divided into two groups**. Each sample should be selected so that it is similar to the population you want to understand. The groups should be similar to one another so that any differences between them can be attributed to seeing version A or version B and not something else. You also want the split of between A and B to be as random as possible.\n",
    "\n",
    "**A hypothesis**. Your hypothesis is what you expect to happen. For example, \"I expect the HTML email will achieve a higher open and conversion rate than the plain text email.\"\n",
    "\n",
    "**Outcome(s) of interest**. What you expect will change as a result of using version A or version B, and how you will measure that change. This means you have to decide on a _key metric_, which should capture the effect of your change and reflect the motivations for the test in the first place.\n",
    "\n",
    "**Other measured variables**. This includes information about the two groups that can be used to ensure they are similar, as well as secondary outcomes that are less important than the primary outcomes of interest but which might also change in response to using version A or version B.\n"
   ]
  },
  {
   "cell_type": "markdown",
   "metadata": {},
   "source": [
    "# 4 A/B Test Examples\n",
    "\n",
    "## Does a new supplement help people sleep better?\n",
    "\n",
    "1) Versions: control and test group\n",
    "2) Sample: Population of simular demographics\n",
    "3) Hypothesis: Expect Test group to report better sleep\n",
    "4) Metrics: Duration of sleep, Ease of falling asleep and feeling rested\n",
    "5) Population varibles: age, employment, health\n",
    "\n",
    "## Will new uniforms help a gym's business?\n",
    "\n",
    "1) Versions: Before and After Uniform change\n",
    "2) Sample: Population of simular demographics\n",
    "3) Hypothesis: Expect uptick in buisness after change\n",
    "4) Metrics: retention, new members, customer satisfaction\n",
    "5) Population varibles: age, sex, member since\n",
    "\n",
    "## Will a new homepage improve my online exotic pet rental business?\n",
    "\n",
    "1) Versions: Before and After homepage change\n",
    "2) Sample: Online community\n",
    "3) Hypothesis: Expect uptick in buisness after change\n",
    "4) Metrics: clicks or hits, inquires, sales\n",
    "5) Population varibles: age, sex, member since\n",
    "\n",
    "## If I put 'please read' in the email subject will more people read my emails?\n",
    "\n",
    "1) Versions: With and Without tagline \n",
    "2) Sample: random split of distribution list\n",
    "3) Hypothesis: Expect uptick read mail\n",
    "4) Metrics: opened mail\n",
    "5) Population varibles: distribution list memeber statistics\n"
   ]
  },
  {
   "cell_type": "code",
   "execution_count": null,
   "metadata": {},
   "outputs": [],
   "source": []
  }
 ],
 "metadata": {
  "kernelspec": {
   "display_name": "Python 3",
   "language": "python",
   "name": "python3"
  },
  "language_info": {
   "codemirror_mode": {
    "name": "ipython",
    "version": 3
   },
   "file_extension": ".py",
   "mimetype": "text/x-python",
   "name": "python",
   "nbconvert_exporter": "python",
   "pygments_lexer": "ipython3",
   "version": "3.6.7"
  }
 },
 "nbformat": 4,
 "nbformat_minor": 2
}
