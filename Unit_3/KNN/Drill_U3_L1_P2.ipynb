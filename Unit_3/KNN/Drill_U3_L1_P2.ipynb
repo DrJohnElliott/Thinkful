{
 "cells": [
  {
   "cell_type": "markdown",
   "metadata": {},
   "source": [
    "## DRILL:\n",
    "Let's say we work at a credit card company and we're trying to figure out if people are going to pay their bills on time. We have everyone's purchases, split into four main categories: groceries, dining out, utilities, and entertainment. What are some ways you might use KNN to create this model? What aspects of KNN would be useful? Write up your thoughts in submit a link below.\n",
    "\n",
    "### Discussion\n",
    "First feature of the data is that it is all in the same units, KNN being a simple model and handels varibles equally requires preprocessing to normilze data to account for differences in units and scale. The data does not include past 30-60-90 day information so classification of the probability of not paying bills on time would be out of the data sets scope. The data would give insight into spending trends and may identify classifications of monatary habits and disposition. The data has two varibles that could be be directly related to each other \"groceries and eating out\". Also the number of purchases and the k value we choose would influence the models performance, the performance of the value of k could be determined with using k-fold cross validation. \n",
    "\n"
   ]
  }
 ],
 "metadata": {
  "kernelspec": {
   "display_name": "Python 3",
   "language": "python",
   "name": "python3"
  },
  "language_info": {
   "codemirror_mode": {
    "name": "ipython",
    "version": 3
   },
   "file_extension": ".py",
   "mimetype": "text/x-python",
   "name": "python",
   "nbconvert_exporter": "python",
   "pygments_lexer": "ipython3",
   "version": "3.6.7"
  }
 },
 "nbformat": 4,
 "nbformat_minor": 2
}
