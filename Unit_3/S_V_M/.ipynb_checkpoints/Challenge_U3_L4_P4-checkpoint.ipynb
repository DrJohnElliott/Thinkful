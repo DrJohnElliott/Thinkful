{
 "cells": [
  {
   "cell_type": "code",
   "execution_count": 2,
   "metadata": {},
   "outputs": [],
   "source": [
    "import numpy as np\n",
    "import pandas as pd\n",
    "import scipy\n",
    "import matplotlib.pyplot as plt\n",
    "import seaborn as sns\n",
    "%matplotlib inline\n",
    "\n",
    "\n",
    "raw_data = pd.read_csv('https://tf-assets-prod.s3.amazonaws.com/tf-curric/data-science/epi_r.csv')\n",
    "\n",
    "# list(raw_data.columns)"
   ]
  },
  {
   "cell_type": "code",
   "execution_count": 2,
   "metadata": {},
   "outputs": [
    {
     "data": {
      "text/plain": [
       "count    20052.000000\n",
       "mean         3.714467\n",
       "std          1.340829\n",
       "min          0.000000\n",
       "25%          3.750000\n",
       "50%          4.375000\n",
       "75%          4.375000\n",
       "max          5.000000\n",
       "Name: rating, dtype: float64"
      ]
     },
     "execution_count": 2,
     "metadata": {},
     "output_type": "execute_result"
    }
   ],
   "source": [
    "raw_data.rating.describe()"
   ]
  },
  {
   "cell_type": "code",
   "execution_count": 3,
   "metadata": {},
   "outputs": [
    {
     "data": {
      "image/png": "[encoded data removed]",
      "text/plain": [
       "<Figure size 432x288 with 1 Axes>"
      ]
     },
     "metadata": {
      "needs_background": "light"
     },
     "output_type": "display_data"
    }
   ],
   "source": [
    "raw_data.rating.hist(bins=20)\n",
    "plt.title('Histogram of Recipe Ratings')\n",
    "plt.show()"
   ]
  },
  {
   "cell_type": "code",
   "execution_count": 4,
   "metadata": {},
   "outputs": [
    {
     "data": {
      "text/plain": [
       "calories    4117\n",
       "protein     4162\n",
       "fat         4183\n",
       "sodium      4119\n",
       "dtype: int64"
      ]
     },
     "execution_count": 4,
     "metadata": {},
     "output_type": "execute_result"
    }
   ],
   "source": [
    "# Count nulls \n",
    "null_count = raw_data.isnull().sum()\n",
    "null_count[null_count>0]"
   ]
  },
  {
   "cell_type": "code",
   "execution_count": 3,
   "metadata": {},
   "outputs": [
    {
     "name": "stdout",
     "output_type": "stream",
     "text": [
      "Feature ranking:\n",
      "1. feature 9 (0.041068)\n",
      "2. feature 12 (0.034779)\n",
      "3. feature 1 (0.020018)\n",
      "4. feature 15 (0.018608)\n",
      "5. feature 11 (0.017630)\n",
      "6. feature 10 (0.016778)\n",
      "7. feature 25 (0.015647)\n",
      "8. feature 6 (0.015593)\n",
      "9. feature 20 (0.015187)\n",
      "10. feature 28 (0.014877)\n",
      "11. feature 18 (0.013964)\n",
      "12. feature 24 (0.013633)\n",
      "13. feature 3 (0.013561)\n",
      "14. feature 14 (0.013519)\n",
      "15. feature 0 (0.013485)\n",
      "16. feature 26 (0.012823)\n",
      "17. feature 19 (0.012682)\n",
      "18. feature 21 (0.011789)\n",
      "19. feature 17 (0.011380)\n",
      "20. feature 27 (0.011303)\n",
      "21. feature 23 (0.011257)\n",
      "22. feature 22 (0.011018)\n",
      "23. feature 5 (0.010561)\n",
      "24. feature 2 (0.010360)\n",
      "25. feature 85 (0.010353)\n",
      "26. feature 7 (0.010326)\n",
      "27. feature 13 (0.010233)\n",
      "28. feature 16 (0.010172)\n",
      "29. feature 8 (0.010127)\n",
      "30. feature 4 (0.009908)\n",
      "31. feature 99 (0.009273)\n",
      "32. feature 74 (0.009262)\n",
      "33. feature 89 (0.009022)\n",
      "34. feature 53 (0.008955)\n",
      "35. feature 40 (0.008860)\n",
      "36. feature 50 (0.008773)\n",
      "37. feature 30 (0.008711)\n",
      "38. feature 60 (0.008657)\n",
      "39. feature 94 (0.008643)\n",
      "40. feature 64 (0.008598)\n",
      "41. feature 35 (0.008593)\n",
      "42. feature 29 (0.008511)\n",
      "43. feature 68 (0.008460)\n",
      "44. feature 49 (0.008447)\n",
      "45. feature 72 (0.008414)\n",
      "46. feature 58 (0.008380)\n",
      "47. feature 84 (0.008363)\n",
      "48. feature 62 (0.008270)\n",
      "49. feature 97 (0.008269)\n",
      "50. feature 38 (0.008174)\n",
      "51. feature 78 (0.008166)\n",
      "52. feature 52 (0.008112)\n",
      "53. feature 59 (0.008108)\n",
      "54. feature 95 (0.008074)\n",
      "55. feature 41 (0.008056)\n",
      "56. feature 91 (0.007975)\n",
      "57. feature 31 (0.007966)\n",
      "58. feature 66 (0.007943)\n",
      "59. feature 87 (0.007916)\n",
      "60. feature 76 (0.007885)\n",
      "61. feature 69 (0.007870)\n",
      "62. feature 36 (0.007847)\n",
      "63. feature 43 (0.007838)\n",
      "64. feature 92 (0.007837)\n",
      "65. feature 80 (0.007818)\n",
      "66. feature 86 (0.007812)\n",
      "67. feature 73 (0.007810)\n",
      "68. feature 88 (0.007807)\n",
      "69. feature 81 (0.007797)\n",
      "70. feature 83 (0.007794)\n",
      "71. feature 44 (0.007777)\n",
      "72. feature 61 (0.007777)\n",
      "73. feature 48 (0.007764)\n",
      "74. feature 34 (0.007761)\n",
      "75. feature 90 (0.007756)\n",
      "76. feature 55 (0.007732)\n",
      "77. feature 33 (0.007727)\n",
      "78. feature 75 (0.007696)\n",
      "79. feature 96 (0.007663)\n",
      "80. feature 42 (0.007659)\n",
      "81. feature 82 (0.007602)\n",
      "82. feature 54 (0.007594)\n",
      "83. feature 98 (0.007587)\n",
      "84. feature 65 (0.007576)\n",
      "85. feature 46 (0.007573)\n",
      "86. feature 39 (0.007566)\n",
      "87. feature 45 (0.007554)\n",
      "88. feature 63 (0.007552)\n",
      "89. feature 32 (0.007543)\n",
      "90. feature 77 (0.007464)\n",
      "91. feature 51 (0.007416)\n",
      "92. feature 93 (0.007402)\n",
      "93. feature 79 (0.007401)\n",
      "94. feature 71 (0.007398)\n",
      "95. feature 57 (0.007361)\n",
      "96. feature 47 (0.007343)\n",
      "97. feature 37 (0.007336)\n",
      "98. feature 70 (0.007332)\n",
      "99. feature 67 (0.007248)\n",
      "100. feature 56 (0.007136)\n"
     ]
    },
    {
     "data": {
      "image/png": "[encoded data removed]",
      "text/plain": [
       "<Figure size 432x288 with 1 Axes>"
      ]
     },
     "metadata": {
      "needs_background": "light"
     },
     "output_type": "display_data"
    }
   ],
   "source": [
    "import numpy as np\n",
    "import matplotlib.pyplot as plt\n",
    "from sklearn.datasets import make_classification\n",
    "from sklearn.ensemble import ExtraTreesClassifier\n",
    "from sklearn.svm import SVR\n",
    "\n",
    "X = raw_data.drop(['rating', 'title', 'calories', 'protein', 'fat', 'sodium'], 1).sample(frac=0.3, replace=True, random_state=1)\n",
    "y = raw_data.rating.sample(frac=0.3, replace=True, random_state=1)\n",
    "\n",
    "\n",
    "#X = df.drop('quality', 1)\n",
    "#y = df['quality']\n",
    "\n",
    "\n",
    "# Build a classification task using 10 informative features\n",
    "X, y = make_classification(n_samples=1000,\n",
    "                           n_features=100,\n",
    "                           n_informative=30,\n",
    "                           n_redundant=0,\n",
    "                           n_repeated=0,\n",
    "                           n_classes=2,\n",
    "                           random_state=0,\n",
    "                           shuffle=False)\n",
    "\n",
    "# Build a forest and compute the feature importances\n",
    "forest = ExtraTreesClassifier(n_estimators=250,\n",
    "                              random_state=0)\n",
    "\n",
    "forest.fit(X, y)\n",
    "importances = forest.feature_importances_\n",
    "std = np.std([tree.feature_importances_ for tree in forest.estimators_], axis=0)\n",
    "indices = np.argsort(importances)[::-1]\n",
    "\n",
    "# Print the feature ranking\n",
    "print(\"Feature ranking:\")\n",
    "\n",
    "for f in range(X.shape[1]):\n",
    "    print(\"%d. feature %d (%f)\" % (f + 1, indices[f], importances[indices[f]]))\n",
    "\n",
    "# Plot the feature importances of the forest\n",
    "plt.figure()\n",
    "plt.title(\"Feature importances\")\n",
    "plt.bar(range(X.shape[1]), importances[indices],\n",
    "       color=\"r\", yerr=std[indices], align=\"center\")\n",
    "\n",
    "plt.xticks(range(X.shape[1]), indices)\n",
    "plt.xlim([-1, X.shape[1]])\n",
    "plt.show()"
   ]
  },
  {
   "cell_type": "code",
   "execution_count": 12,
   "metadata": {},
   "outputs": [
    {
     "data": {
      "text/plain": [
       "SVR(C=1.0, cache_size=200, coef0=0.0, degree=3, epsilon=0.1, gamma='scale',\n",
       "  kernel='rbf', max_iter=-1, shrinking=True, tol=0.001, verbose=False)"
      ]
     },
     "execution_count": 12,
     "metadata": {},
     "output_type": "execute_result"
    }
   ],
   "source": [
    "from sklearn.svm import SVR\n",
    "svr = SVR(gamma='scale')\n",
    "\n",
    "svr.fit(X,y)"
   ]
  },
  {
   "cell_type": "code",
   "execution_count": 13,
   "metadata": {},
   "outputs": [
    {
     "data": {
      "text/plain": [
       "<matplotlib.collections.PathCollection at 0x7fb6fe8e7438>"
      ]
     },
     "execution_count": 13,
     "metadata": {},
     "output_type": "execute_result"
    },
    {
     "data": {
      "image/png": "[encoded data removed]",
      "text/plain": [
       "<Figure size 432x288 with 1 Axes>"
      ]
     },
     "metadata": {
      "needs_background": "light"
     },
     "output_type": "display_data"
    }
   ],
   "source": [
    "plt.scatter(y, svr.predict(X))"
   ]
  },
  {
   "cell_type": "code",
   "execution_count": 14,
   "metadata": {},
   "outputs": [
    {
     "data": {
      "text/plain": [
       "0.9623997550860495"
      ]
     },
     "execution_count": 14,
     "metadata": {},
     "output_type": "execute_result"
    }
   ],
   "source": [
    "svr.score(X, y)"
   ]
  },
  {
   "cell_type": "code",
   "execution_count": 16,
   "metadata": {},
   "outputs": [
    {
     "data": {
      "text/plain": [
       "array([  0.        ,   0.28121468,   0.52776773,   0.18201766,\n",
       "       -44.55073391])"
      ]
     },
     "execution_count": 16,
     "metadata": {},
     "output_type": "execute_result"
    }
   ],
   "source": [
    "from sklearn.model_selection import cross_val_score\n",
    "cross_val_score(svr, X, y, cv=5)"
   ]
  }
 ],
 "metadata": {
  "kernelspec": {
   "display_name": "Python 3",
   "language": "python",
   "name": "python3"
  },
  "language_info": {
   "codemirror_mode": {
    "name": "ipython",
    "version": 3
   },
   "file_extension": ".py",
   "mimetype": "text/x-python",
   "name": "python",
   "nbconvert_exporter": "python",
   "pygments_lexer": "ipython3",
   "version": "3.6.7"
  }
 },
 "nbformat": 4,
 "nbformat_minor": 2
}
