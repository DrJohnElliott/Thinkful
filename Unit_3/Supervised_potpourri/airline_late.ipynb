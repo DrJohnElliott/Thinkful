{
 "cells": [
  {
   "cell_type": "code",
   "execution_count": 1,
   "metadata": {},
   "outputs": [
    {
     "name": "stdout",
     "output_type": "stream",
     "text": [
      "7009729\n"
     ]
    }
   ],
   "source": [
    "with open('2008.csv', \"r\") as filehandle:\n",
    "    number_of_lines = len(filehandle.readlines())\n",
    "    print(number_of_lines)"
   ]
  },
  {
   "cell_type": "code",
   "execution_count": 2,
   "metadata": {},
   "outputs": [
    {
     "data": {
      "text/plain": [
       "50000"
      ]
     },
     "execution_count": 2,
     "metadata": {},
     "output_type": "execute_result"
    }
   ],
   "source": [
    "import numpy as np\n",
    "import matplotlib.pyplot as plt\n",
    "import pandas as pd\n",
    "import random\n",
    "import seaborn as sns\n",
    "import statsmodels.api as sm\n",
    "from sklearn import linear_model\n",
    "from sklearn.linear_model import LogisticRegression\n",
    "from sklearn import preprocessing\n",
    "from sklearn.model_selection import StratifiedShuffleSplit\n",
    "\n",
    "# sample dataset\n",
    "filename = \"2008.csv\"\n",
    "with open(filename, \"r\") as filehandle:\n",
    "    number_of_lines = len(filehandle.readlines())\n",
    "n = number_of_lines - 1 #number of records in file (excludes header)\n",
    "s = 50000 #desired sample size\n",
    "skip = sorted(random.sample(range(1,n+1),n-s)) #the 0-indexed header will not be included in the skip list\n",
    "df = pd.read_csv(filename, skiprows=skip)\n",
    "len(df.index)"
   ]
  },
  {
   "cell_type": "code",
   "execution_count": 3,
   "metadata": {},
   "outputs": [
    {
     "name": "stdout",
     "output_type": "stream",
     "text": [
      "   Year  Month  DayofMonth  DayOfWeek  DepTime  CRSDepTime  ArrTime  \\\n",
      "0  2008      1           3          4    926.0         930   1054.0   \n",
      "1  2008      1           3          4   2051.0        2010    134.0   \n",
      "2  2008      1           3          4   2158.0        2120   2303.0   \n",
      "\n",
      "   CRSArrTime UniqueCarrier  FlightNum  ... TaxiIn  TaxiOut  Cancelled  \\\n",
      "0        1100            WN       1746  ...    3.0      7.0          0   \n",
      "1          55            WN       3746  ...    4.0      9.0          0   \n",
      "2        2225            WN       2896  ...   11.0     10.0          0   \n",
      "\n",
      "   CancellationCode  Diverted  CarrierDelay WeatherDelay NASDelay  \\\n",
      "0               NaN         0           NaN          NaN      NaN   \n",
      "1               NaN         0          17.0          0.0      0.0   \n",
      "2               NaN         0          13.0          0.0      0.0   \n",
      "\n",
      "   SecurityDelay  LateAircraftDelay  \n",
      "0            NaN                NaN  \n",
      "1            0.0               22.0  \n",
      "2            0.0               25.0  \n",
      "\n",
      "[3 rows x 29 columns]\n",
      "<class 'pandas.core.frame.DataFrame'>\n",
      "RangeIndex: 50000 entries, 0 to 49999\n",
      "Data columns (total 29 columns):\n",
      "Year                 50000 non-null int64\n",
      "Month                50000 non-null int64\n",
      "DayofMonth           50000 non-null int64\n",
      "DayOfWeek            50000 non-null int64\n",
      "DepTime              48987 non-null float64\n",
      "CRSDepTime           50000 non-null int64\n",
      "ArrTime              48861 non-null float64\n",
      "CRSArrTime           50000 non-null int64\n",
      "UniqueCarrier        50000 non-null object\n",
      "FlightNum            50000 non-null int64\n",
      "TailNum              49373 non-null object\n",
      "ActualElapsedTime    48848 non-null float64\n",
      "CRSElapsedTime       49993 non-null float64\n",
      "AirTime              48848 non-null float64\n",
      "ArrDelay             48848 non-null float64\n",
      "DepDelay             48987 non-null float64\n",
      "Origin               50000 non-null object\n",
      "Dest                 50000 non-null object\n",
      "Distance             50000 non-null int64\n",
      "TaxiIn               48861 non-null float64\n",
      "TaxiOut              48981 non-null float64\n",
      "Cancelled            50000 non-null int64\n",
      "CancellationCode     1019 non-null object\n",
      "Diverted             50000 non-null int64\n",
      "CarrierDelay         10977 non-null float64\n",
      "WeatherDelay         10977 non-null float64\n",
      "NASDelay             10977 non-null float64\n",
      "SecurityDelay        10977 non-null float64\n",
      "LateAircraftDelay    10977 non-null float64\n",
      "dtypes: float64(14), int64(10), object(5)\n",
      "memory usage: 11.1+ MB\n",
      "None\n",
      "253509\n",
      "Year                     0\n",
      "Month                    0\n",
      "DayofMonth               0\n",
      "DayOfWeek                0\n",
      "DepTime               1013\n",
      "CRSDepTime               0\n",
      "ArrTime               1139\n",
      "CRSArrTime               0\n",
      "UniqueCarrier            0\n",
      "FlightNum                0\n",
      "TailNum                627\n",
      "ActualElapsedTime     1152\n",
      "CRSElapsedTime           7\n",
      "AirTime               1152\n",
      "ArrDelay              1152\n",
      "DepDelay              1013\n",
      "Origin                   0\n",
      "Dest                     0\n",
      "Distance                 0\n",
      "TaxiIn                1139\n",
      "TaxiOut               1019\n",
      "Cancelled                0\n",
      "CancellationCode     48981\n",
      "Diverted                 0\n",
      "CarrierDelay         39023\n",
      "WeatherDelay         39023\n",
      "NASDelay             39023\n",
      "SecurityDelay        39023\n",
      "LateAircraftDelay    39023\n",
      "dtype: int64\n"
     ]
    }
   ],
   "source": [
    "names = df.columns\n",
    "names\n",
    "print(df.head(3))\n",
    "print(df.info())\n",
    "print(df.isnull().values.sum())\n",
    "print(df.isnull().sum())"
   ]
  },
  {
   "cell_type": "code",
   "execution_count": 4,
   "metadata": {},
   "outputs": [
    {
     "name": "stdout",
     "output_type": "stream",
     "text": [
      "   Year  Month  DayofMonth  DayOfWeek  DepTime  CRSDepTime  ArrTime  \\\n",
      "0  2008      1           3          4    926.0         930   1054.0   \n",
      "1  2008      1           3          4   2051.0        2010    134.0   \n",
      "2  2008      1           3          4   2158.0        2120   2303.0   \n",
      "3  2008      1           3          4   1134.0        1110   1343.0   \n",
      "4  2008      1           3          4   2140.0        2040   2334.0   \n",
      "\n",
      "   CRSArrTime  FlightNum  ActualElapsedTime  ...  dest_TYR  dest_TYS  \\\n",
      "0        1100       1746               88.0  ...         0         0   \n",
      "1          55       3746              163.0  ...         0         0   \n",
      "2        2225       2896               65.0  ...         0         0   \n",
      "3        1315        781               69.0  ...         0         0   \n",
      "4        2240       1682               54.0  ...         0         0   \n",
      "\n",
      "   dest_VLD  dest_VPS  dest_WRG  dest_WYS  dest_XNA  dest_YAK  dest_YKM  \\\n",
      "0         0         0         0         0         0         0         0   \n",
      "1         0         0         0         0         0         0         0   \n",
      "2         0         0         0         0         0         0         0   \n",
      "3         0         0         0         0         0         0         0   \n",
      "4         0         0         0         0         0         0         0   \n",
      "\n",
      "   dest_YUM  \n",
      "0         0  \n",
      "1         0  \n",
      "2         0  \n",
      "3         0  \n",
      "4         0  \n",
      "\n",
      "[5 rows x 625 columns]\n",
      "0    42237\n",
      "1     6611\n",
      "Name: ArrDelay, dtype: int64\n",
      "baseline = 15.65215332528352 %\n"
     ]
    }
   ],
   "source": [
    "# Modify dataset\n",
    "df = df.drop(['TailNum', 'CancellationCode', 'SecurityDelay', 'LateAircraftDelay',\n",
    "              'CarrierDelay', 'WeatherDelay', 'NASDelay'], axis =1)\n",
    "df = df.dropna()\n",
    "y = df[['ArrDelay']].copy()\n",
    "y['ArrDelay'] = pd.Series(np.where(y.ArrDelay.values >= 30, 1,0), df.index)\n",
    "\n",
    "# cat_df_flights_onehot = cat_df_flights.copy()\n",
    "df = pd.get_dummies(df, columns=['UniqueCarrier', 'Origin', 'Dest'], prefix = ['carrier', 'origin', 'dest'])\n",
    "\n",
    "print(df.head())\n",
    "\n",
    "target = y['ArrDelay'].value_counts()\n",
    "X = df.drop('ArrDelay', axis=1)\n",
    "X = np.array(X)\n",
    "y = np.array(y)\n",
    "\n",
    "sss = StratifiedShuffleSplit(n_splits=1, test_size=0.2, random_state=0)\n",
    "sss.get_n_splits(X, y)\n",
    "StratifiedShuffleSplit(n_splits=1, random_state=0)\n",
    "\n",
    "for train_index, test_index in sss.split(X, y):    \n",
    "    # print(\"TRAIN:\", train_index, \"TEST:\", test_index) \n",
    "    X_train, X_test = X[train_index], X[test_index]\n",
    "    y_train, y_test = y[train_index], y[test_index]\n",
    "    \n",
    "y_train = np.ravel(y_train)\n",
    "y_teat = np.ravel(y_test)\n",
    "\n",
    "print(target)\n",
    "print('baseline =', (target[1] / target[0] * 100), '%' )"
   ]
  },
  {
   "cell_type": "code",
   "execution_count": 5,
   "metadata": {},
   "outputs": [
    {
     "name": "stdout",
     "output_type": "stream",
     "text": [
      "Simple Logistic Model\n",
      "0.9989764061620349\n",
      "0.998157625383828\n"
     ]
    },
    {
     "name": "stderr",
     "output_type": "stream",
     "text": [
      "/home/john/python3_virtualenv/python3_env/lib/python3.6/site-packages/sklearn/svm/base.py:931: ConvergenceWarning: Liblinear failed to converge, increase the number of iterations.\n",
      "  \"the number of iterations.\", ConvergenceWarning)\n"
     ]
    }
   ],
   "source": [
    "log_Model = linear_model.LogisticRegression(penalty='l1', solver='liblinear')\n",
    "late_model = log_Model.fit(X_train, y_train)\n",
    "\n",
    "print('Simple Logistic Model')\n",
    "print(log_Model.score(X_train, y_train))\n",
    "print(log_Model.score(X_test, y_test))"
   ]
  },
  {
   "cell_type": "code",
   "execution_count": 6,
   "metadata": {},
   "outputs": [
    {
     "name": "stdout",
     "output_type": "stream",
     "text": [
      "Simple Logistic\n",
      "[[8443    5]\n",
      " [  13 1309]]\n"
     ]
    }
   ],
   "source": [
    "\n",
    "from sklearn import metrics\n",
    "# Simple Logistics\n",
    "y_predict = late_model.predict(X_test)\n",
    "late_cnf_matrix = metrics.confusion_matrix(y_test, y_predict)\n",
    "print('Simple Logistic')\n",
    "print(late_cnf_matrix)"
   ]
  },
  {
   "cell_type": "code",
   "execution_count": 7,
   "metadata": {},
   "outputs": [
    {
     "name": "stdout",
     "output_type": "stream",
     "text": [
      "Simple Logistic\n",
      "Accuracy: 0.998157625383828\n",
      "Precision: 0.9961948249619482\n",
      "Recall: 0.9901664145234493\n"
     ]
    }
   ],
   "source": [
    "print('Simple Logistic')\n",
    "print(\"Accuracy:\",metrics.accuracy_score(y_test, y_predict))\n",
    "print(\"Precision:\",metrics.precision_score(y_test, y_predict))\n",
    "print(\"Recall:\",metrics.recall_score(y_test, y_predict))"
   ]
  }
 ],
 "metadata": {
  "kernelspec": {
   "display_name": "Python 3",
   "language": "python",
   "name": "python3"
  },
  "language_info": {
   "codemirror_mode": {
    "name": "ipython",
    "version": 3
   },
   "file_extension": ".py",
   "mimetype": "text/x-python",
   "name": "python",
   "nbconvert_exporter": "python",
   "pygments_lexer": "ipython3",
   "version": "3.6.7"
  }
 },
 "nbformat": 4,
 "nbformat_minor": 2
}
