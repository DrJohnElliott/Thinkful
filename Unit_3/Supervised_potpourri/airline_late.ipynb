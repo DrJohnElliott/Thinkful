{
 "cells": [
  {
   "cell_type": "code",
   "execution_count": null,
   "metadata": {},
   "outputs": [],
   "source": [
    "with open('2008.csv', \"r\") as filehandle:\n",
    "    number_of_lines = len(filehandle.readlines())\n",
    "    print(number_of_lines)"
   ]
  },
  {
   "cell_type": "code",
   "execution_count": 1,
   "metadata": {},
   "outputs": [
    {
     "data": {
      "text/plain": [
       "10000"
      ]
     },
     "execution_count": 1,
     "metadata": {},
     "output_type": "execute_result"
    }
   ],
   "source": [
    "import numpy as np\n",
    "import matplotlib.pyplot as plt\n",
    "import pandas as pd\n",
    "import random\n",
    "import seaborn as sns\n",
    "import statsmodels.api as sm\n",
    "from sklearn import linear_model\n",
    "from sklearn.linear_model import LogisticRegression\n",
    "from sklearn import preprocessing\n",
    "from sklearn.model_selection import train_test_split\n",
    "\n",
    "# sample dataset\n",
    "filename = \"2008.csv\"\n",
    "with open(filename, \"r\") as filehandle:\n",
    "    number_of_lines = len(filehandle.readlines())\n",
    "n = number_of_lines - 1 #number of records in file (excludes header)\n",
    "s = 10000 #desired sample size\n",
    "skip = sorted(random.sample(range(1,n+1),n-s)) #the 0-indexed header will not be included in the skip list\n",
    "df = pd.read_csv(filename, skiprows=skip)\n",
    "len(df.index)"
   ]
  },
  {
   "cell_type": "code",
   "execution_count": 2,
   "metadata": {},
   "outputs": [
    {
     "data": {
      "text/plain": [
       "Index(['Year', 'Month', 'DayofMonth', 'DayOfWeek', 'DepTime', 'CRSDepTime',\n",
       "       'ArrTime', 'CRSArrTime', 'UniqueCarrier', 'FlightNum', 'TailNum',\n",
       "       'ActualElapsedTime', 'CRSElapsedTime', 'AirTime', 'ArrDelay',\n",
       "       'DepDelay', 'Origin', 'Dest', 'Distance', 'TaxiIn', 'TaxiOut',\n",
       "       'Cancelled', 'CancellationCode', 'Diverted', 'CarrierDelay',\n",
       "       'WeatherDelay', 'NASDelay', 'SecurityDelay', 'LateAircraftDelay'],\n",
       "      dtype='object')"
      ]
     },
     "execution_count": 2,
     "metadata": {},
     "output_type": "execute_result"
    }
   ],
   "source": [
    "names = df.columns\n",
    "names"
   ]
  },
  {
   "cell_type": "code",
   "execution_count": 3,
   "metadata": {},
   "outputs": [
    {
     "name": "stdout",
     "output_type": "stream",
     "text": [
      "         Year        Month   DayofMonth    DayOfWeek      DepTime  \\\n",
      "count  8000.0  8000.000000  8000.000000  8000.000000  7836.000000   \n",
      "mean   2008.0     6.369500    15.640000     3.908875  1329.858601   \n",
      "std       0.0     3.415469     8.815533     2.005449   478.680401   \n",
      "min    2008.0     1.000000     1.000000     1.000000     2.000000   \n",
      "25%    2008.0     3.000000     8.000000     2.000000   928.000000   \n",
      "50%    2008.0     6.000000    16.000000     4.000000  1320.500000   \n",
      "75%    2008.0     9.000000    23.000000     6.000000  1726.000000   \n",
      "max    2008.0    12.000000    31.000000     7.000000  2400.000000   \n",
      "\n",
      "        CRSDepTime      ArrTime   CRSArrTime    FlightNum  ActualElapsedTime  \\\n",
      "count  8000.000000  7825.000000  8000.000000  8000.000000        7821.000000   \n",
      "mean   1321.192250  1475.282300  1489.637625  2231.515750         127.535098   \n",
      "std     464.533217   507.824712   483.556853  1957.468408          70.069638   \n",
      "min      15.000000     1.000000     4.000000     1.000000          25.000000   \n",
      "25%     925.000000  1104.000000  1110.750000   623.750000          77.000000   \n",
      "50%    1312.000000  1502.000000  1505.000000  1576.500000         110.000000   \n",
      "75%    1710.000000  1907.000000  1905.000000  3573.250000         157.000000   \n",
      "max    2359.000000  2400.000000  2400.000000  7829.000000         620.000000   \n",
      "\n",
      "       ...     Distance       TaxiIn      TaxiOut    Cancelled     Diverted  \\\n",
      "count  ...  8000.000000  7825.000000  7834.000000  8000.000000  8000.000000   \n",
      "mean   ...   724.839125     6.844217    16.723641     0.020750     0.001625   \n",
      "std    ...   556.731459     4.651356    11.392685     0.142555     0.040281   \n",
      "min    ...    49.000000     0.000000     1.000000     0.000000     0.000000   \n",
      "25%    ...   321.000000     4.000000    10.000000     0.000000     0.000000   \n",
      "50%    ...   588.000000     6.000000    14.000000     0.000000     0.000000   \n",
      "75%    ...   954.000000     8.000000    19.000000     0.000000     0.000000   \n",
      "max    ...  4962.000000    65.000000   198.000000     1.000000     1.000000   \n",
      "\n",
      "       CarrierDelay  WeatherDelay    NASDelay  SecurityDelay  \\\n",
      "count   1770.000000   1770.000000  1770.00000    1770.000000   \n",
      "mean      16.130508      3.408475    16.29774       0.105650   \n",
      "std       42.180993     20.873162    28.79773       2.331639   \n",
      "min        0.000000      0.000000     0.00000       0.000000   \n",
      "25%        0.000000      0.000000     0.00000       0.000000   \n",
      "50%        0.000000      0.000000     5.00000       0.000000   \n",
      "75%       16.000000      0.000000    20.00000       0.000000   \n",
      "max      876.000000    317.000000   287.00000      85.000000   \n",
      "\n",
      "       LateAircraftDelay  \n",
      "count        1770.000000  \n",
      "mean           21.651412  \n",
      "std            39.611881  \n",
      "min             0.000000  \n",
      "25%             0.000000  \n",
      "50%             0.000000  \n",
      "75%            27.000000  \n",
      "max           356.000000  \n",
      "\n",
      "[8 rows x 23 columns]\n"
     ]
    }
   ],
   "source": [
    "\n",
    "# Modify dataset\n",
    "\n",
    "y = df[['ArrDelay']].copy()\n",
    "X = df.drop('ArrDelay', axis=1)\n",
    "\n",
    "\n",
    "base = df[df['ArrDelay'] >= 30]\n",
    "# Split data using sklearn \n",
    "X_train, X_test, y_train, y_test = train_test_split(X, y, test_size = 0.2, random_state = 0)\n",
    "base\n",
    "\n",
    "print(X_train.describe())\n",
    "\n"
   ]
  }
 ],
 "metadata": {
  "kernelspec": {
   "display_name": "Python 3",
   "language": "python",
   "name": "python3"
  },
  "language_info": {
   "codemirror_mode": {
    "name": "ipython",
    "version": 3
   },
   "file_extension": ".py",
   "mimetype": "text/x-python",
   "name": "python",
   "nbconvert_exporter": "python",
   "pygments_lexer": "ipython3",
   "version": "3.6.7"
  }
 },
 "nbformat": 4,
 "nbformat_minor": 2
}
