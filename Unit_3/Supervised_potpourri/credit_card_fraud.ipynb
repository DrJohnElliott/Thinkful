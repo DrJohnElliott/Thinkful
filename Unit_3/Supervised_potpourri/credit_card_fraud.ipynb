{
 "cells": [
  {
   "cell_type": "code",
   "execution_count": 1,
   "metadata": {},
   "outputs": [
    {
     "data": {
      "text/html": [
       "<div>\n",
       "<style scoped>\n",
       "    .dataframe tbody tr th:only-of-type {\n",
       "        vertical-align: middle;\n",
       "    }\n",
       "\n",
       "    .dataframe tbody tr th {\n",
       "        vertical-align: top;\n",
       "    }\n",
       "\n",
       "    .dataframe thead th {\n",
       "        text-align: right;\n",
       "    }\n",
       "</style>\n",
       "<table border=\"1\" class=\"dataframe\">\n",
       "  <thead>\n",
       "    <tr style=\"text-align: right;\">\n",
       "      <th></th>\n",
       "      <th>Time</th>\n",
       "      <th>V1</th>\n",
       "      <th>V2</th>\n",
       "      <th>V3</th>\n",
       "      <th>V4</th>\n",
       "      <th>V5</th>\n",
       "      <th>V6</th>\n",
       "      <th>V7</th>\n",
       "      <th>V8</th>\n",
       "      <th>V9</th>\n",
       "      <th>...</th>\n",
       "      <th>V21</th>\n",
       "      <th>V22</th>\n",
       "      <th>V23</th>\n",
       "      <th>V24</th>\n",
       "      <th>V25</th>\n",
       "      <th>V26</th>\n",
       "      <th>V27</th>\n",
       "      <th>V28</th>\n",
       "      <th>Amount</th>\n",
       "      <th>Class</th>\n",
       "    </tr>\n",
       "  </thead>\n",
       "  <tbody>\n",
       "    <tr>\n",
       "      <th>0</th>\n",
       "      <td>0.0</td>\n",
       "      <td>-1.359807</td>\n",
       "      <td>-0.072781</td>\n",
       "      <td>2.536347</td>\n",
       "      <td>1.378155</td>\n",
       "      <td>-0.338321</td>\n",
       "      <td>0.462388</td>\n",
       "      <td>0.239599</td>\n",
       "      <td>0.098698</td>\n",
       "      <td>0.363787</td>\n",
       "      <td>...</td>\n",
       "      <td>-0.018307</td>\n",
       "      <td>0.277838</td>\n",
       "      <td>-0.110474</td>\n",
       "      <td>0.066928</td>\n",
       "      <td>0.128539</td>\n",
       "      <td>-0.189115</td>\n",
       "      <td>0.133558</td>\n",
       "      <td>-0.021053</td>\n",
       "      <td>149.62</td>\n",
       "      <td>0</td>\n",
       "    </tr>\n",
       "    <tr>\n",
       "      <th>1</th>\n",
       "      <td>0.0</td>\n",
       "      <td>1.191857</td>\n",
       "      <td>0.266151</td>\n",
       "      <td>0.166480</td>\n",
       "      <td>0.448154</td>\n",
       "      <td>0.060018</td>\n",
       "      <td>-0.082361</td>\n",
       "      <td>-0.078803</td>\n",
       "      <td>0.085102</td>\n",
       "      <td>-0.255425</td>\n",
       "      <td>...</td>\n",
       "      <td>-0.225775</td>\n",
       "      <td>-0.638672</td>\n",
       "      <td>0.101288</td>\n",
       "      <td>-0.339846</td>\n",
       "      <td>0.167170</td>\n",
       "      <td>0.125895</td>\n",
       "      <td>-0.008983</td>\n",
       "      <td>0.014724</td>\n",
       "      <td>2.69</td>\n",
       "      <td>0</td>\n",
       "    </tr>\n",
       "    <tr>\n",
       "      <th>2</th>\n",
       "      <td>1.0</td>\n",
       "      <td>-1.358354</td>\n",
       "      <td>-1.340163</td>\n",
       "      <td>1.773209</td>\n",
       "      <td>0.379780</td>\n",
       "      <td>-0.503198</td>\n",
       "      <td>1.800499</td>\n",
       "      <td>0.791461</td>\n",
       "      <td>0.247676</td>\n",
       "      <td>-1.514654</td>\n",
       "      <td>...</td>\n",
       "      <td>0.247998</td>\n",
       "      <td>0.771679</td>\n",
       "      <td>0.909412</td>\n",
       "      <td>-0.689281</td>\n",
       "      <td>-0.327642</td>\n",
       "      <td>-0.139097</td>\n",
       "      <td>-0.055353</td>\n",
       "      <td>-0.059752</td>\n",
       "      <td>378.66</td>\n",
       "      <td>0</td>\n",
       "    </tr>\n",
       "  </tbody>\n",
       "</table>\n",
       "<p>3 rows × 31 columns</p>\n",
       "</div>"
      ],
      "text/plain": [
       "   Time        V1        V2        V3        V4        V5        V6        V7  \\\n",
       "0   0.0 -1.359807 -0.072781  2.536347  1.378155 -0.338321  0.462388  0.239599   \n",
       "1   0.0  1.191857  0.266151  0.166480  0.448154  0.060018 -0.082361 -0.078803   \n",
       "2   1.0 -1.358354 -1.340163  1.773209  0.379780 -0.503198  1.800499  0.791461   \n",
       "\n",
       "         V8        V9  ...       V21       V22       V23       V24       V25  \\\n",
       "0  0.098698  0.363787  ... -0.018307  0.277838 -0.110474  0.066928  0.128539   \n",
       "1  0.085102 -0.255425  ... -0.225775 -0.638672  0.101288 -0.339846  0.167170   \n",
       "2  0.247676 -1.514654  ...  0.247998  0.771679  0.909412 -0.689281 -0.327642   \n",
       "\n",
       "        V26       V27       V28  Amount  Class  \n",
       "0 -0.189115  0.133558 -0.021053  149.62      0  \n",
       "1  0.125895 -0.008983  0.014724    2.69      0  \n",
       "2 -0.139097 -0.055353 -0.059752  378.66      0  \n",
       "\n",
       "[3 rows x 31 columns]"
      ]
     },
     "execution_count": 1,
     "metadata": {},
     "output_type": "execute_result"
    }
   ],
   "source": [
    "import numpy as np\n",
    "import matplotlib.pyplot as plt\n",
    "import pandas as pd\n",
    "import seaborn as sns\n",
    "import matplotlib.pyplot as plt\n",
    "import statsmodels.api as sm\n",
    "from sklearn import linear_model\n",
    "from sklearn.linear_model import LogisticRegression\n",
    "from sklearn.ensemble import GradientBoostingClassifier\n",
    "from sklearn import preprocessing\n",
    "from sklearn.model_selection import train_test_split\n",
    "from sklearn.model_selection import StratifiedShuffleSplit\n",
    "from sklearn.metrics import confusion_matrix\n",
    "%matplotlib inline\n",
    "\n",
    "df = pd.read_csv('creditcard.csv')\n",
    "df.head(3)"
   ]
  },
  {
   "cell_type": "code",
   "execution_count": 2,
   "metadata": {},
   "outputs": [
    {
     "name": "stdout",
     "output_type": "stream",
     "text": [
      "StratifiedShuffleSplit(n_splits=1, random_state=0, test_size=0.2,\n",
      "            train_size=None)\n",
      "TRAIN: [ 36001  12844   2873 ... 269968 175960  47973] TEST: [159949  15295 260353 ... 211932  70523  97767]\n",
      "0    284315\n",
      "1       492\n",
      "Name: Class, dtype: int64\n",
      "baseline = 99.8269524998681 %\n"
     ]
    }
   ],
   "source": [
    "\n",
    "X = df.copy()\n",
    "# X = X.dropna()\n",
    "# Modify dataset\n",
    "\n",
    "y = X[['Class']].copy()\n",
    "X = X.drop('Class', axis=1)\n",
    "X = np.array(X)\n",
    "y = np.array(y)\n",
    "sss = StratifiedShuffleSplit(n_splits=1, test_size=0.2, random_state=0)\n",
    "sss.get_n_splits(X, y)\n",
    "\n",
    "print(sss)   \n",
    "\n",
    "StratifiedShuffleSplit(n_splits=1, random_state=0)\n",
    "for train_index, test_index in sss.split(X, y):\n",
    "    \n",
    "    print(\"TRAIN:\", train_index, \"TEST:\", test_index)\n",
    "    \n",
    "    X_train, X_test = X[train_index], X[test_index]\n",
    "    y_train, y_test = y[train_index], y[test_index]\n",
    "\n",
    "\n",
    "target = df['Class'].value_counts()\n",
    "print(target)\n",
    "print('baseline =', 100 - (target[1] / target[0] * 100), '%' )\n",
    "\n",
    "y_train = np.ravel(y_train)\n",
    "y_teat = np.ravel(y_test)"
   ]
  },
  {
   "cell_type": "code",
   "execution_count": 3,
   "metadata": {},
   "outputs": [
    {
     "name": "stdout",
     "output_type": "stream",
     "text": [
      "Simple Logistic Model\n",
      "0.9992187671443306\n",
      "0.9991924440855307\n",
      "\n",
      "Gradient Boosted Trees\n",
      "0.9991924334525665\n",
      "0.9991222218320986\n"
     ]
    }
   ],
   "source": [
    "log_Model = linear_model.LogisticRegression(penalty='l1', solver='liblinear')\n",
    "Fraud_model = log_Model.fit(X_train, y_train)\n",
    "\n",
    "print('Simple Logistic Model')\n",
    "print(log_Model.score(X_train, y_train))\n",
    "print(log_Model.score(X_test, y_test))\n",
    "\n",
    "#grd_boost_tree = GradientBoostingClassifier(n_estimators=100, learning_rate=1.0, max_depth=1, random_state=0)\n",
    "grd_boost_tree = GradientBoostingClassifier(n_estimators=30, learning_rate=0.1, max_depth=3, random_state=0, subsample=0.5)\n",
    "Fraud_model2 = grd_boost_tree.fit(X_train, y_train)\n",
    "Fraud_model2 = grd_boost_tree.fit(X_train, y_train)\n",
    "print('')\n",
    "print('Gradient Boosted Trees')\n",
    "print(grd_boost_tree.score(X_train, y_train))\n",
    "print(grd_boost_tree.score(X_test, y_test))\n"
   ]
  },
  {
   "cell_type": "code",
   "execution_count": 4,
   "metadata": {},
   "outputs": [
    {
     "name": "stdout",
     "output_type": "stream",
     "text": [
      "Simple Logistic\n",
      "[[56853    11]\n",
      " [   35    63]]\n",
      "\n",
      "Gradient Boosted Trees\n",
      "[[56848    16]\n",
      " [   34    64]]\n"
     ]
    }
   ],
   "source": [
    "from sklearn import metrics\n",
    "# Simple Logistics\n",
    "y_predict = Fraud_model.predict(X_test)\n",
    "fraud_cnf_matrix = metrics.confusion_matrix(y_test, y_predict)\n",
    "print('Simple Logistic')\n",
    "print(fraud_cnf_matrix)\n",
    "# Gradient Boosted Trees\n",
    "y_predict_2 = Fraud_model2.predict(X_test)\n",
    "fraud_cnf_matrix_2 = metrics.confusion_matrix(y_test, y_predict_2)\n",
    "print('')\n",
    "print('Gradient Boosted Trees')\n",
    "print(fraud_cnf_matrix_2)"
   ]
  },
  {
   "cell_type": "code",
   "execution_count": 5,
   "metadata": {},
   "outputs": [
    {
     "data": {
      "image/png": "[encoded data removed]",
      "text/plain": [
       "<Figure size 432x288 with 4 Axes>"
      ]
     },
     "metadata": {
      "needs_background": "light"
     },
     "output_type": "display_data"
    }
   ],
   "source": [
    "class_names=[0,1] # name  of classes\n",
    "fig, axs = plt.subplots()\n",
    "tick_marks = np.arange(len(class_names))\n",
    "plt.xticks(tick_marks, class_names)\n",
    "plt.yticks(tick_marks, class_names)\n",
    "\n",
    "\n",
    "plt.subplot(121)\n",
    "sns.heatmap(pd.DataFrame(fraud_cnf_matrix), annot=True, cmap=\"YlGnBu\" ,fmt='g')\n",
    "\n",
    "# Initialize second subplot\n",
    "plt.subplot(122)\n",
    "sns.heatmap(pd.DataFrame(fraud_cnf_matrix_2), annot=True, cmap=\"YlGnBu\" ,fmt='g')\n",
    "\n",
    "plt.subplots_adjust(wspace = 0.7, top = None)\n",
    "# Show the plot                   \n",
    "plt.show()"
   ]
  },
  {
   "cell_type": "code",
   "execution_count": 6,
   "metadata": {},
   "outputs": [
    {
     "name": "stdout",
     "output_type": "stream",
     "text": [
      "Simple Logistic\n",
      "Accuracy: 0.9991924440855307\n",
      "Precision: 0.8513513513513513\n",
      "Recall: 0.6428571428571429\n",
      "\n",
      "Gradient Boosted Trees\n",
      "Accuracy: 0.9991222218320986\n",
      "Precision: 0.8\n",
      "Recall: 0.6530612244897959\n"
     ]
    }
   ],
   "source": [
    "print('Simple Logistic')\n",
    "print(\"Accuracy:\",metrics.accuracy_score(y_test, y_predict))\n",
    "print(\"Precision:\",metrics.precision_score(y_test, y_predict))\n",
    "print(\"Recall:\",metrics.recall_score(y_test, y_predict))\n",
    "print('')\n",
    "print('Gradient Boosted Trees')\n",
    "print(\"Accuracy:\",metrics.accuracy_score(y_test, y_predict_2))\n",
    "print(\"Precision:\",metrics.precision_score(y_test, y_predict_2))\n",
    "print(\"Recall:\",metrics.recall_score(y_test, y_predict_2))"
   ]
  },
  {
   "cell_type": "code",
   "execution_count": 7,
   "metadata": {},
   "outputs": [
    {
     "name": "stdout",
     "output_type": "stream",
     "text": [
      "Simple Logistic\n"
     ]
    },
    {
     "data": {
      "image/png": "[encoded data removed]",
      "text/plain": [
       "<Figure size 432x288 with 1 Axes>"
      ]
     },
     "metadata": {
      "needs_background": "light"
     },
     "output_type": "display_data"
    }
   ],
   "source": [
    "y_pred_proba = Fraud_model.predict_proba(X_test)[::,1]\n",
    "fpr, tpr, _ = metrics.roc_curve(y_test,  y_pred_proba)\n",
    "auc = metrics.roc_auc_score(y_test, y_pred_proba)\n",
    "plt.plot(fpr,tpr,label=\"data 1, auc=\"+str(auc))\n",
    "plt.legend(loc=4)\n",
    "print('Simple Logistic')\n",
    "plt.show()\n"
   ]
  }
 ],
 "metadata": {
  "kernelspec": {
   "display_name": "Python 3",
   "language": "python",
   "name": "python3"
  },
  "language_info": {
   "codemirror_mode": {
    "name": "ipython",
    "version": 3
   },
   "file_extension": ".py",
   "mimetype": "text/x-python",
   "name": "python",
   "nbconvert_exporter": "python",
   "pygments_lexer": "ipython3",
   "version": "3.6.7"
  }
 },
 "nbformat": 4,
 "nbformat_minor": 2
}
