{
 "cells": [
  {
   "cell_type": "code",
   "execution_count": 1,
   "metadata": {},
   "outputs": [],
   "source": [
    "import numpy as np\n",
    "import matplotlib.pyplot as plt\n",
    "import pandas as pd\n",
    "import seaborn as sns\n",
    "import statsmodels.api as sm\n",
    "from sklearn import linear_model\n",
    "from sklearn.linear_model import LogisticRegression\n",
    "from sklearn import preprocessing\n",
    "from sklearn.model_selection import train_test_split\n",
    "\n",
    "df = pd.read_csv('2008.csv', nrows=1000)"
   ]
  },
  {
   "cell_type": "code",
   "execution_count": 2,
   "metadata": {},
   "outputs": [
    {
     "data": {
      "text/plain": [
       "Index(['Year', 'Month', 'DayofMonth', 'DayOfWeek', 'DepTime', 'CRSDepTime',\n",
       "       'ArrTime', 'CRSArrTime', 'UniqueCarrier', 'FlightNum', 'TailNum',\n",
       "       'ActualElapsedTime', 'CRSElapsedTime', 'AirTime', 'ArrDelay',\n",
       "       'DepDelay', 'Origin', 'Dest', 'Distance', 'TaxiIn', 'TaxiOut',\n",
       "       'Cancelled', 'CancellationCode', 'Diverted', 'CarrierDelay',\n",
       "       'WeatherDelay', 'NASDelay', 'SecurityDelay', 'LateAircraftDelay'],\n",
       "      dtype='object')"
      ]
     },
     "execution_count": 2,
     "metadata": {},
     "output_type": "execute_result"
    }
   ],
   "source": [
    "names = df.columns\n",
    "names"
   ]
  },
  {
   "cell_type": "code",
   "execution_count": 3,
   "metadata": {},
   "outputs": [
    {
     "name": "stdout",
     "output_type": "stream",
     "text": [
      "         Year  Month  DayofMonth  DayOfWeek      DepTime   CRSDepTime  \\\n",
      "count   800.0  800.0       800.0      800.0   788.000000   800.000000   \n",
      "mean   2008.0    1.0         3.0        4.0  1394.817259  1341.412500   \n",
      "std       0.0    0.0         0.0        0.0   492.522810   464.775645   \n",
      "min    2008.0    1.0         3.0        4.0   559.000000   600.000000   \n",
      "25%    2008.0    1.0         3.0        4.0   951.750000   933.750000   \n",
      "50%    2008.0    1.0         3.0        4.0  1415.500000  1337.500000   \n",
      "75%    2008.0    1.0         3.0        4.0  1816.000000  1735.000000   \n",
      "max    2008.0    1.0         3.0        4.0  2334.000000  2200.000000   \n",
      "\n",
      "           ArrTime   CRSArrTime    FlightNum  ActualElapsedTime  ...  \\\n",
      "count   788.000000   800.000000   800.000000         788.000000  ...   \n",
      "mean   1461.623096  1496.981250  1469.695000         120.232234  ...   \n",
      "std     581.519871   525.906673  1154.078429          63.356863  ...   \n",
      "min       1.000000     5.000000     3.000000          41.000000  ...   \n",
      "25%    1053.750000  1120.000000   465.250000          69.750000  ...   \n",
      "50%    1536.000000  1540.000000  1124.500000          96.000000  ...   \n",
      "75%    1923.000000  1916.250000  2375.000000         155.000000  ...   \n",
      "max    2358.000000  2355.000000  3948.000000         338.000000  ...   \n",
      "\n",
      "          Distance      TaxiIn     TaxiOut   Cancelled  Diverted  \\\n",
      "count   800.000000  788.000000  788.000000  800.000000     800.0   \n",
      "mean    733.803750    5.261421   11.343909    0.015000       0.0   \n",
      "std     508.953851    4.832670    5.505894    0.121628       0.0   \n",
      "min     133.000000    1.000000    4.000000    0.000000       0.0   \n",
      "25%     335.750000    3.000000    8.000000    0.000000       0.0   \n",
      "50%     538.500000    4.000000   10.000000    0.000000       0.0   \n",
      "75%    1044.000000    5.000000   13.000000    0.000000       0.0   \n",
      "max    2363.000000   64.000000   85.000000    1.000000       0.0   \n",
      "\n",
      "       CarrierDelay  WeatherDelay    NASDelay  SecurityDelay  \\\n",
      "count    412.000000    412.000000  412.000000     412.000000   \n",
      "mean      21.342233      0.546117    4.713592       0.148058   \n",
      "std       34.925041      6.972334   17.456669       1.158874   \n",
      "min        0.000000      0.000000    0.000000       0.000000   \n",
      "25%        2.000000      0.000000    0.000000       0.000000   \n",
      "50%       12.000000      0.000000    0.000000       0.000000   \n",
      "75%       26.000000      0.000000    4.000000       0.000000   \n",
      "max      285.000000    135.000000  203.000000      12.000000   \n",
      "\n",
      "       LateAircraftDelay  \n",
      "count         412.000000  \n",
      "mean           23.055825  \n",
      "std            26.673739  \n",
      "min             0.000000  \n",
      "25%             3.750000  \n",
      "50%            16.000000  \n",
      "75%            31.000000  \n",
      "max           246.000000  \n",
      "\n",
      "[8 rows x 23 columns]\n",
      "target\n"
     ]
    }
   ],
   "source": [
    "\n",
    "# Modify dataset\n",
    "\n",
    "y = df[['ArrDelay']].copy()\n",
    "X = df.drop('ArrDelay', axis=1)\n",
    "\n",
    "\n",
    "base = df[df['ArrDelay'] >= 30]\n",
    "# Split data using sklearn \n",
    "X_train, X_test, y_train, y_test = train_test_split(X, y, test_size = 0.2, random_state = 0)\n",
    "base\n",
    "\n",
    "print(X_train.describe())\n",
    "\n",
    "#target = X_train['surgery'].value_counts()\n",
    "#print(target)\n",
    "#print(target[0] / target[1])\n"
   ]
  }
 ],
 "metadata": {
  "kernelspec": {
   "display_name": "Python 3",
   "language": "python",
   "name": "python3"
  },
  "language_info": {
   "codemirror_mode": {
    "name": "ipython",
    "version": 3
   },
   "file_extension": ".py",
   "mimetype": "text/x-python",
   "name": "python",
   "nbconvert_exporter": "python",
   "pygments_lexer": "ipython3",
   "version": "3.6.7"
  }
 },
 "nbformat": 4,
 "nbformat_minor": 2
}
