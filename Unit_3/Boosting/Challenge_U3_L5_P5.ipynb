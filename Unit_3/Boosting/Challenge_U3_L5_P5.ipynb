{
 "cells": [
  {
   "cell_type": "markdown",
   "metadata": {},
   "source": [
    "* Predict the running times of prospective Olympic sprinters using data from the last 20 Olympics.<br> \n",
    "Regression model because of continious outcome\n",
    "<br>\n",
    "\n",
    "* You have more features (columns) than rows in your dataset. <br>\n",
    "resampling - Boosting model\n",
    "<br>\n",
    "\n",
    "* Identify the most important characteristic predicting likelihood of being jailed before age 20.<br>\n",
    "feature selection - Lasso, Decision tree\n",
    "\n",
    "\n",
    "* Implement a filter to “highlight” emails that might be important to the recipient<br>\n",
    "classification - SVM, nearest neighbors, random forest\n",
    "\n",
    "* You have 1000+ features.<br>\n",
    "feature selection LASO\n",
    "\n",
    "* Predict whether someone who adds items to their cart on a website will purchase the items. <br>\n",
    "logistic regression\n",
    "\n",
    "* Your dataset dimensions are 982400 x 500<br>\n",
    "LASO\n",
    "\n",
    "* Identify faces in an image.<br>\n",
    "SVM, KNN\n",
    "\n",
    "* Predict which of three flavors of ice cream will be most popular with boys vs girls.<br>\n",
    "Classifier - Random Forest"
   ]
  },
  {
   "cell_type": "code",
   "execution_count": null,
   "metadata": {},
   "outputs": [],
   "source": []
  }
 ],
 "metadata": {
  "kernelspec": {
   "display_name": "Python 3",
   "language": "python",
   "name": "python3"
  },
  "language_info": {
   "codemirror_mode": {
    "name": "ipython",
    "version": 3
   },
   "file_extension": ".py",
   "mimetype": "text/x-python",
   "name": "python",
   "nbconvert_exporter": "python",
   "pygments_lexer": "ipython3",
   "version": "3.6.7"
  }
 },
 "nbformat": 4,
 "nbformat_minor": 2
}
