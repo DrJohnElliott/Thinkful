{
 "cells": [
  {
   "cell_type": "code",
   "execution_count": 1,
   "metadata": {},
   "outputs": [],
   "source": [
    "import numpy as np\n",
    "import matplotlib.pyplot as plt\n",
    "import pandas as pd\n",
    "import seaborn as sns\n",
    "import statsmodels.api as sm\n",
    "from sklearn import linear_model\n",
    "from sklearn.linear_model import LogisticRegression\n",
    "from sklearn import preprocessing\n",
    "from sklearn.model_selection import train_test_split\n",
    "\n",
    "df = pd.read_csv('horse.csv')\n",
    "\n",
    "names = df.columns\n",
    "\n",
    "df['age'] = pd.Series(np.where(df.age.values == 'young', 1,0), df.index)\n",
    "df['temp_of_extremities'] = pd.Series(np.where(df.temp_of_extremities.values == 'normal', 1,0), df.index)\n",
    "df['surgery'] = pd.Series(np.where(df.surgery.values == 'yes', 1,0), df.index)\n",
    "df['capillary_refill_time'] = pd.Series(np.where(df.capillary_refill_time.values == \n",
    "                                                'less_3_sec', 1,0), df.index)\n",
    "X = df[[ 'surgery', 'age', 'total_protein', 'packed_cell_volume', 'respiratory_rate', 'pulse', 'rectal_temp', 'outcome']].copy()\n",
    "X = X.dropna()\n",
    "# Modify dataset\n",
    "\n",
    "y = X[['outcome']].copy()\n",
    "X = X.drop('outcome', 1)\n",
    "y = pd.Series(np.where(y.outcome.values == 'lived', 1,0), y.index)\n",
    "\n",
    "# Split data using sklearn \n",
    "X_train, X_test, y_train, y_test = train_test_split(X, y, test_size = 0.2, random_state = 0)"
   ]
  },
  {
   "cell_type": "code",
   "execution_count": 2,
   "metadata": {},
   "outputs": [
    {
     "data": {
      "image/png": "[encoded data removed]",
      "text/plain": [
       "<Figure size 864x648 with 2 Axes>"
      ]
     },
     "metadata": {
      "needs_background": "light"
     },
     "output_type": "display_data"
    }
   ],
   "source": [
    "# Inspect correlations\n",
    "corrmat = X_train.corr()\n",
    "\n",
    "# Set up the matplotlib figure.\n",
    "f, ax = plt.subplots(figsize=(12, 9))\n",
    "\n",
    "# Draw the heatmap using seaborn\n",
    "sns.heatmap(corrmat, vmax=1, square=True)\n",
    "plt.show()"
   ]
  },
  {
   "cell_type": "code",
   "execution_count": 9,
   "metadata": {},
   "outputs": [
    {
     "name": "stdout",
     "output_type": "stream",
     "text": [
      "Coefficients\n",
      "[[-0.54686398  2.68714453  0.00448558  0.01277338 -0.05782316  0.67824992]]\n",
      "[-21.55224209]\n",
      "\n",
      " Accuracy by admission status\n",
      "col_0   0   1\n",
      "row_0        \n",
      "0      32  11\n",
      "1      22  87\n",
      "\n",
      " Percentage accuracy\n",
      "0.6666666666666666\n"
     ]
    },
    {
     "name": "stderr",
     "output_type": "stream",
     "text": [
      "/home/john/python3_virtualenv/python3_env/lib/python3.6/site-packages/sklearn/linear_model/logistic.py:433: FutureWarning: Default solver will be changed to 'lbfgs' in 0.22. Specify a solver to silence this warning.\n",
      "  FutureWarning)\n"
     ]
    }
   ],
   "source": [
    "# Initiate model\n",
    "lr = LogisticRegression(C=1e9)\n",
    "\n",
    "# Fit the model.\n",
    "fit = lr.fit(X_train, y_train)\n",
    "\n",
    "# Display.\n",
    "print('Coefficients')\n",
    "print(fit.coef_)\n",
    "print(fit.intercept_)\n",
    "pred_y_sklearn = lr.predict(X_train)\n",
    "\n",
    "print('\\n Accuracy by admission status')\n",
    "print(pd.crosstab(pred_y_sklearn, y_train))\n",
    "\n",
    "print('\\n Percentage accuracy')\n",
    "print(lr.score(X_test, y_test))"
   ]
  },
  {
   "cell_type": "code",
   "execution_count": 10,
   "metadata": {},
   "outputs": [
    {
     "name": "stdout",
     "output_type": "stream",
     "text": [
      "0.27026564080597104\n",
      "0.3073369617636429\n",
      "0.14374371410296782\n",
      "0.10056593155081028\n"
     ]
    }
   ],
   "source": [
    "# Fitting a ridge regression model. Alpha is the regularization\n",
    "# parameter (usually called lambda). As alpha gets larger, parameter\n",
    "# shrinkage grows more pronounced. Note that by convention, the\n",
    "# intercept is not regularized. Since we standardized the data\n",
    "# earlier, the intercept should be equal to zero and can be dropped.\n",
    "# 'total_protein', 'respiratory_rate', 'pulse', 'rectal_temp'\n",
    "ridgeregr = linear_model.Ridge(alpha=10, fit_intercept=False) \n",
    "ridgeregr.fit(X_train, y_train)\n",
    "print(ridgeregr.score(X_train, y_train))\n",
    "#origparams = ridgeregr.coef_[0]\n",
    "#print(origparams)\n",
    "\n",
    "X2_train = X_train.copy()\n",
    "X2_train['protien_pulse'] = X_train['total_protein'] * X_train['pulse']\n",
    "X2_train['protien_temp'] = X_train['total_protein'] * X_train['rectal_temp']\n",
    "X2_train['protien_rate'] = X_train['total_protein'] * X_train['respiratory_rate']\n",
    "X2_train['pulse_sqrt'] = ( X_train['pulse'] +100) ** 2\n",
    "X2_train['pulse_sqrt'] = ( X_train['pulse'] +100) ** 3\n",
    "\n",
    "X2_test = X_test.copy()\n",
    "X2_test['protien_pulse'] = X2_test['total_protein'] * X2_test['pulse']\n",
    "X2_test['protien_temp'] = X2_test['total_protein'] * X2_test['rectal_temp']\n",
    "X2_test['protien_rate'] = X2_test['total_protein'] * X2_test['respiratory_rate']\n",
    "X2_test['pulse_sqrt'] = ( X2_test['pulse'] +100) ** 2\n",
    "X2_test['pulse_sqrt'] = ( X2_test['pulse'] +100) ** 3\n",
    "\n",
    "\n",
    "ridgeregrBig = linear_model.Ridge(alpha=10, fit_intercept=False)\n",
    "ridgeregrBig.fit(X2_train, y_train)\n",
    "print(ridgeregrBig.score(X2_train, y_train))\n",
    "#newparams = ridgeregrBig.coef_[0, 0:len(origparams)]\n",
    "print(ridgeregr.score(X_test, y_test))\n",
    "print(ridgeregrBig.score(X2_test, y_test))"
   ]
  },
  {
   "cell_type": "code",
   "execution_count": null,
   "metadata": {},
   "outputs": [],
   "source": [
    "X_train"
   ]
  }
 ],
 "metadata": {
  "kernelspec": {
   "display_name": "Python 3",
   "language": "python",
   "name": "python3"
  },
  "language_info": {
   "codemirror_mode": {
    "name": "ipython",
    "version": 3
   },
   "file_extension": ".py",
   "mimetype": "text/x-python",
   "name": "python",
   "nbconvert_exporter": "python",
   "pygments_lexer": "ipython3",
   "version": "3.6.7"
  }
 },
 "nbformat": 4,
 "nbformat_minor": 2
}
