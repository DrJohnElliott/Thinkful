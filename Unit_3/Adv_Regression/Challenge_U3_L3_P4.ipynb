{
 "cells": [
  {
   "cell_type": "code",
   "execution_count": 1,
   "metadata": {},
   "outputs": [],
   "source": [
    "import numpy as np\n",
    "import matplotlib.pyplot as plt\n",
    "import pandas as pd\n",
    "import seaborn as sns\n",
    "import statsmodels.api as sm\n",
    "from sklearn import linear_model\n",
    "from sklearn.linear_model import LogisticRegression\n",
    "from sklearn import preprocessing\n",
    "from sklearn.model_selection import train_test_split\n",
    "\n",
    "df = pd.read_csv('horse.csv')\n",
    "\n",
    "names = df.columns\n",
    "\n",
    "df['age'] = pd.Series(np.where(df.age.values == 'young', 1,0), df.index)\n",
    "df['temp_of_extremities'] = pd.Series(np.where(df.temp_of_extremities.values == 'normal', 1,0), df.index)\n",
    "df['surgery'] = pd.Series(np.where(df.surgery.values == 'yes', 1,0), df.index)\n",
    "df['capillary_refill_time'] = pd.Series(np.where(df.capillary_refill_time.values == \n",
    "                                                'less_3_sec', 1,0), df.index)\n",
    "X = df[[ 'surgery', 'age', 'total_protein', 'packed_cell_volume', 'respiratory_rate', 'pulse', 'rectal_temp', 'outcome']].copy()\n",
    "X = X.dropna()\n",
    "# Modify dataset\n",
    "\n",
    "y = X[['outcome']].copy()\n",
    "X = X.drop('outcome', 1)\n",
    "y = pd.Series(np.where(y.outcome.values == 'lived', 1,0), y.index)\n",
    "\n",
    "# Split data using sklearn \n",
    "X_train, X_test, y_train, y_test = train_test_split(X, y, test_size = 0.2, random_state = 0)"
   ]
  },
  {
   "cell_type": "code",
   "execution_count": 2,
   "metadata": {},
   "outputs": [
    {
     "data": {
      "image/png": "[encoded data removed]",
      "text/plain": [
       "<Figure size 864x648 with 2 Axes>"
      ]
     },
     "metadata": {
      "needs_background": "light"
     },
     "output_type": "display_data"
    }
   ],
   "source": [
    "# Inspect correlations\n",
    "corrmat = X_train.corr()\n",
    "\n",
    "# Set up the matplotlib figure.\n",
    "f, ax = plt.subplots(figsize=(12, 9))\n",
    "\n",
    "# Draw the heatmap using seaborn\n",
    "sns.heatmap(corrmat, vmax=1, square=True)\n",
    "plt.show()"
   ]
  },
  {
   "cell_type": "code",
   "execution_count": 3,
   "metadata": {},
   "outputs": [
    {
     "name": "stdout",
     "output_type": "stream",
     "text": [
      "Coefficients\n",
      "[[-0.70333163  1.82795314  0.00649323 -0.07668589  0.02046101 -0.04252006\n",
      "   0.36898469]]\n",
      "[-7.43850895]\n",
      "\n",
      " Accuracy by admission status\n",
      "col_0   0   1\n",
      "row_0        \n",
      "0      34   8\n",
      "1      21  89\n",
      "\n",
      " Percentage accuracy\n",
      "0.7894736842105263\n"
     ]
    },
    {
     "name": "stderr",
     "output_type": "stream",
     "text": [
      "/home/john/python3_virtualenv/python3_env/lib/python3.6/site-packages/sklearn/linear_model/logistic.py:433: FutureWarning: Default solver will be changed to 'lbfgs' in 0.22. Specify a solver to silence this warning.\n",
      "  FutureWarning)\n"
     ]
    }
   ],
   "source": [
    "# Initiate model\n",
    "lr = LogisticRegression(C=1e9)\n",
    "\n",
    "# Fit the model.\n",
    "fit = lr.fit(X_train, y_train)\n",
    "\n",
    "# Display.\n",
    "print('Coefficients')\n",
    "print(fit.coef_)\n",
    "print(fit.intercept_)\n",
    "pred_y_sklearn = lr.predict(X_train)\n",
    "\n",
    "print('\\n Accuracy by admission status')\n",
    "print(pd.crosstab(pred_y_sklearn, y_train))\n",
    "\n",
    "print('\\n Percentage accuracy')\n",
    "print(lr.score(X_test, y_test))"
   ]
  },
  {
   "cell_type": "code",
   "execution_count": 4,
   "metadata": {},
   "outputs": [
    {
     "name": "stdout",
     "output_type": "stream",
     "text": [
      "0.32057186067805377\n",
      "0.3345638180078069\n",
      "0.25085392942366724\n",
      "0.25665641320657995\n"
     ]
    }
   ],
   "source": [
    "# Fitting a ridge regression model. Alpha is the regularization\n",
    "# parameter (usually called lambda). As alpha gets larger, parameter\n",
    "# shrinkage grows more pronounced. Note that by convention, the\n",
    "# intercept is not regularized. Since we standardized the data\n",
    "# earlier, the intercept should be equal to zero and can be dropped.\n",
    "# 'total_protein', 'respiratory_rate', 'pulse', 'rectal_temp'\n",
    "ridgeregr = linear_model.Ridge(alpha=3, fit_intercept=False) \n",
    "ridgeregr.fit(X_train, y_train)\n",
    "print(ridgeregr.score(X_train, y_train))\n",
    "#origparams = ridgeregr.coef_[0]\n",
    "#print(origparams)\n",
    "\n",
    "X2_train = X_train.copy()\n",
    "X2_train['protien_pulse'] = X_train['total_protein'] * X_train['pulse']\n",
    "X2_train['protien_temp'] = X_train['total_protein'] * X_train['rectal_temp']\n",
    "X2_train['protien_rate'] = X_train['total_protein'] * X_train['respiratory_rate']\n",
    "X2_train['pulse_sqrt'] = ( X_train['pulse'] +100) ** 2\n",
    "X2_train['pulse_sqrt'] = ( X_train['pulse'] +100) ** 3\n",
    "\n",
    "X2_test = X_test.copy()\n",
    "X2_test['protien_pulse'] = X2_test['total_protein'] * X2_test['pulse']\n",
    "X2_test['protien_temp'] = X2_test['total_protein'] * X2_test['rectal_temp']\n",
    "X2_test['protien_rate'] = X2_test['total_protein'] * X2_test['respiratory_rate']\n",
    "X2_test['pulse_sqrt'] = ( X2_test['pulse'] +100) ** 2\n",
    "X2_test['pulse_sqrt'] = ( X2_test['pulse'] +100) ** 3\n",
    "\n",
    "\n",
    "ridgeregrBig = linear_model.Ridge(alpha=3, fit_intercept=False)\n",
    "ridgeregrBig.fit(X2_train, y_train)\n",
    "print(ridgeregrBig.score(X2_train, y_train))\n",
    "#newparams = ridgeregrBig.coef_[0, 0:len(origparams)]\n",
    "print(ridgeregr.score(X_test, y_test))\n",
    "print(ridgeregrBig.score(X2_test, y_test))"
   ]
  },
  {
   "cell_type": "code",
   "execution_count": 11,
   "metadata": {},
   "outputs": [
    {
     "name": "stdout",
     "output_type": "stream",
     "text": [
      "R² for the model with few features:\n",
      "0.3222602714851006\n",
      "\n",
      "Parameter estimates for the model with few features:\n",
      "[-7.15315282e-02  7.24864297e-02 -0.00000000e+00 -1.62915365e-02\n",
      "  4.54967619e-03 -9.99333291e-03  4.84307892e-02  7.22024784e-05\n",
      " -7.47762377e-05 -4.16537445e-05  2.16799045e-08 -9.63672301e-03]\n",
      "\n",
      "R² for the model with many features:\n",
      "0.3222602714851006\n",
      "\n",
      "Parameter estimates for the model with many features:\n",
      "[-7.15315282e-02  7.24864297e-02 -0.00000000e+00 -1.62915365e-02\n",
      "  4.54967619e-03 -9.99333291e-03  4.84307892e-02  7.22024784e-05\n",
      " -7.47762377e-05 -4.16537445e-05  2.16799045e-08 -9.63672301e-03]\n"
     ]
    }
   ],
   "source": [
    "# Small number of parameters.\n",
    "lass = linear_model.Lasso(alpha=.01)\n",
    "lassfit = lass.fit(X2_train, y_train)\n",
    "print('R² for the model with few features:')\n",
    "print(lass.score(X2_train, y_train))\n",
    "origparams = np.append(lassfit.coef_, lassfit.intercept_)\n",
    "print('\\nParameter estimates for the model with few features:')\n",
    "print(origparams)\n",
    "\n",
    "# Large number of parameters.\n",
    "lassBig = linear_model.Lasso(alpha=.01)\n",
    "lassBig.fit(X2_train, y_train)\n",
    "print('\\nR² for the model with many features:')\n",
    "print(lassBig.score(X2_train, y_train))\n",
    "origparams = np.append(lassBig.coef_, lassBig.intercept_)\n",
    "print('\\nParameter estimates for the model with many features:')\n",
    "print(origparams)"
   ]
  }
 ],
 "metadata": {
  "kernelspec": {
   "display_name": "Python 3",
   "language": "python",
   "name": "python3"
  },
  "language_info": {
   "codemirror_mode": {
    "name": "ipython",
    "version": 3
   },
   "file_extension": ".py",
   "mimetype": "text/x-python",
   "name": "python",
   "nbconvert_exporter": "python",
   "pygments_lexer": "ipython3",
   "version": "3.6.7"
  }
 },
 "nbformat": 4,
 "nbformat_minor": 2
}
