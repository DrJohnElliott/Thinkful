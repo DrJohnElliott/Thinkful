{
 "cells": [
  {
   "cell_type": "code",
   "execution_count": 21,
   "metadata": {},
   "outputs": [
    {
     "name": "stdout",
     "output_type": "stream",
     "text": [
      "          surgery         age  total_protein  packed_cell_volume  \\\n",
      "count  152.000000  152.000000     152.000000          152.000000   \n",
      "mean     0.565789    0.092105      23.992763           45.743421   \n",
      "std      0.497291    0.290130      27.390754           10.280340   \n",
      "min      0.000000    0.000000       3.300000           28.000000   \n",
      "25%      0.000000    0.000000       6.500000           38.000000   \n",
      "50%      1.000000    0.000000       7.500000           44.000000   \n",
      "75%      1.000000    0.000000      55.250000           50.000000   \n",
      "max      1.000000    1.000000      89.000000           75.000000   \n",
      "\n",
      "       respiratory_rate       pulse  rectal_temp  \n",
      "count        152.000000  152.000000   152.000000  \n",
      "mean          30.453947   69.789474    38.205263  \n",
      "std           18.425378   29.429145     0.726580  \n",
      "min            9.000000   30.000000    36.000000  \n",
      "25%           18.000000   48.000000    37.800000  \n",
      "50%           24.000000   60.000000    38.200000  \n",
      "75%           36.000000   86.500000    38.600000  \n",
      "max           90.000000  184.000000    40.800000  \n",
      "target\n",
      "1    86\n",
      "0    66\n",
      "Name: surgery, dtype: int64\n",
      "0.7674418604651163\n"
     ]
    }
   ],
   "source": [
    "import numpy as np\n",
    "import matplotlib.pyplot as plt\n",
    "import pandas as pd\n",
    "import seaborn as sns\n",
    "import statsmodels.api as sm\n",
    "from sklearn import linear_model\n",
    "from sklearn.linear_model import LogisticRegression\n",
    "from sklearn import preprocessing\n",
    "from sklearn.model_selection import train_test_split\n",
    "\n",
    "df = pd.read_csv('horse.csv')\n",
    "\n",
    "names = df.columns\n",
    "\n",
    "df['age'] = pd.Series(np.where(df.age.values == 'young', 1,0), df.index)\n",
    "df['temp_of_extremities'] = pd.Series(np.where(df.temp_of_extremities.values == 'normal', 1,0), df.index)\n",
    "df['surgery'] = pd.Series(np.where(df.surgery.values == 'yes', 1,0), df.index)\n",
    "df['capillary_refill_time'] = pd.Series(np.where(df.capillary_refill_time.values == \n",
    "                                                'less_3_sec', 1,0), df.index)\n",
    "X = df[[ 'surgery', 'age', 'total_protein', 'packed_cell_volume', 'respiratory_rate', 'pulse', 'rectal_temp', 'outcome']].copy()\n",
    "X = X.dropna()\n",
    "# Modify dataset\n",
    "\n",
    "y = X[['outcome']].copy()\n",
    "X = X.drop('outcome', 1)\n",
    "y = pd.Series(np.where(y.outcome.values == 'lived', 1,0), y.index)\n",
    "base = df['outcome'].value_counts()\n",
    "# Split data using sklearn \n",
    "X_train, X_test, y_train, y_test = train_test_split(X, y, test_size = 0.2, random_state = 0)\n",
    "base\n",
    "\n",
    "print(X_train.describe())\n",
    "print('target')\n",
    "target = X_train['surgery'].value_counts()\n",
    "print(target)\n",
    "print(target[0] / target[1])\n"
   ]
  },
  {
   "cell_type": "code",
   "execution_count": 4,
   "metadata": {},
   "outputs": [
    {
     "data": {
      "image/png": "[encoded data removed]",
      "text/plain": [
       "<Figure size 864x648 with 2 Axes>"
      ]
     },
     "metadata": {
      "needs_background": "light"
     },
     "output_type": "display_data"
    }
   ],
   "source": [
    "# Inspect correlations\n",
    "df = X_train.copy()\n",
    "df = df.drop(['surgery'], axis =1)\n",
    "corrmat = df.corr()\n",
    "\n",
    "# Set up the matplotlib figure.\n",
    "f, ax = plt.subplots(figsize=(12, 9))\n",
    "\n",
    "# Draw the heatmap using seaborn\n",
    "sns.heatmap(corrmat, vmax=1, square=True)\n",
    "plt.show()"
   ]
  },
  {
   "cell_type": "code",
   "execution_count": 18,
   "metadata": {},
   "outputs": [
    {
     "name": "stdout",
     "output_type": "stream",
     "text": [
      "Coefficients\n",
      "[[-0.70333163  1.82795314  0.00649323 -0.07668589  0.02046101 -0.04252006\n",
      "   0.36898469]]\n",
      "[-7.43850895]\n",
      "\n",
      " Accuracy by admission status\n",
      "col_0   0   1\n",
      "row_0        \n",
      "0      34   8\n",
      "1      21  89\n",
      "\n",
      " Percentage accuracy\n",
      "0.7894736842105263\n"
     ]
    },
    {
     "name": "stderr",
     "output_type": "stream",
     "text": [
      "/home/john/python3_virtualenv/python3_env/lib/python3.6/site-packages/sklearn/linear_model/logistic.py:433: FutureWarning: Default solver will be changed to 'lbfgs' in 0.22. Specify a solver to silence this warning.\n",
      "  FutureWarning)\n"
     ]
    }
   ],
   "source": [
    "# Vanilla logistic regression\n",
    "\n",
    "# Initiate model\n",
    "lr = LogisticRegression(C=1e9)\n",
    "\n",
    "# Fit the model.\n",
    "fit = lr.fit(X_train, y_train)\n",
    "\n",
    "# Display.\n",
    "print('Coefficients')\n",
    "print(fit.coef_)\n",
    "print(fit.intercept_)\n",
    "pred_y_sklearn = lr.predict(X_train)\n",
    "\n",
    "print('\\n Accuracy by admission status')\n",
    "print(pd.crosstab(pred_y_sklearn, y_train))\n",
    "\n",
    "print('\\n Percentage accuracy')\n",
    "print(lr.score(X_test, y_test))"
   ]
  },
  {
   "cell_type": "code",
   "execution_count": 31,
   "metadata": {},
   "outputs": [
    {
     "name": "stdout",
     "output_type": "stream",
     "text": [
      "0.7960526315789473\n",
      "0.6447368421052632\n",
      "0.8157894736842105\n",
      "0.7894736842105263\n"
     ]
    },
    {
     "name": "stderr",
     "output_type": "stream",
     "text": [
      "/home/john/python3_virtualenv/python3_env/lib/python3.6/site-packages/sklearn/linear_model/logistic.py:758: ConvergenceWarning: lbfgs failed to converge. Increase the number of iterations.\n",
      "  \"of iterations.\", ConvergenceWarning)\n"
     ]
    }
   ],
   "source": [
    "# Fitting a ridge regression model. Alpha is the regularization\n",
    "# parameter (usually called lambda). As alpha gets larger, parameter\n",
    "# shrinkage grows more pronounced. Note that by convention, the\n",
    "# intercept is not regularized. Since we standardized the data\n",
    "# earlier, the intercept should be equal to zero and can be dropped.\n",
    "# 'total_protein', 'respiratory_rate', 'pulse', 'rectal_temp'\n",
    "ridgeregr = linear_model.LogisticRegression(random_state=0, solver='lbfgs', multi_class='multinomial') \n",
    "ridgeregr.fit(X_train, y_train)\n",
    "print(ridgeregr.score(X_train, y_train))\n",
    "#origparams = ridgeregr.coef_[0]\n",
    "#print(origparams)\n",
    "\n",
    "X2_train = X_train.copy()\n",
    "X2_train['protien_pulse'] = X_train['total_protein'] * X_train['pulse']\n",
    "X2_train['protien_temp'] = X_train['total_protein'] * X_train['rectal_temp']\n",
    "X2_train['protien_rate'] = X_train['total_protein'] * X_train['respiratory_rate']\n",
    "X2_train['pulse_sqrt'] = ( X_train['pulse'] +100) ** 2\n",
    "X2_train['pulse_sqrt'] = ( X_train['pulse'] +100) ** 3\n",
    "\n",
    "X2_test = X_test.copy()\n",
    "X2_test['protien_pulse'] = X2_test['total_protein'] * X2_test['pulse']\n",
    "X2_test['protien_temp'] = X2_test['total_protein'] * X2_test['rectal_temp']\n",
    "X2_test['protien_rate'] = X2_test['total_protein'] * X2_test['respiratory_rate']\n",
    "X2_test['pulse_sqrt'] = ( X2_test['pulse'] +100) ** 2\n",
    "X2_test['pulse_sqrt'] = ( X2_test['pulse'] +100) ** 3\n",
    "\n",
    "\n",
    "ridgeregrBig = linear_model.LogisticRegression(random_state=0, solver='lbfgs', multi_class='multinomial') \n",
    "ridgeregrBig.fit(X2_train, y_train)\n",
    "print(ridgeregrBig.score(X2_train, y_train))\n",
    "#newparams = ridgeregrBig.coef_[0, 0:len(origparams)]\n",
    "print(ridgeregr.score(X_test, y_test))\n",
    "print(ridgeregrBig.score(X2_test, y_test))"
   ]
  },
  {
   "cell_type": "code",
   "execution_count": 33,
   "metadata": {},
   "outputs": [
    {
     "name": "stdout",
     "output_type": "stream",
     "text": [
      "0.8157894736842105\n",
      "\n",
      "Parameter estimates for the model with few features:\n",
      "[-0.54573457  0.62782113  0.00538038 -0.08554834  0.02478975 -0.03385297\n",
      "  0.16631517  0.        ]\n",
      "0.8157894736842105\n",
      "\n",
      "Parameter estimates for the model with many features:\n",
      "[-5.54553743e-01  7.16328336e-01 -3.04586563e-02 -8.61961961e-02\n",
      "  3.21109076e-02 -5.41126156e-02  1.86108879e-01  4.40524871e-04\n",
      "  3.75661886e-04 -3.22336381e-04  9.16933376e-08  0.00000000e+00]\n"
     ]
    }
   ],
   "source": [
    "# Small number of parameters.\n",
    "lass = linear_model.LogisticRegression(penalty='l1', solver='liblinear')\n",
    "lassfit = lass.fit(X_train, y_train)\n",
    "\n",
    "print(lass.score(X_test, y_test))\n",
    "origparams = np.append(lassfit.coef_, lassfit.intercept_)\n",
    "print('\\nParameter estimates for the model with few features:')\n",
    "print(origparams)\n",
    "\n",
    "# Large number of parameters.\n",
    "lassBig = linear_model.LogisticRegression(penalty='l1', solver='liblinear')\n",
    "lassBig.fit(X2_train, y_train)\n",
    "\n",
    "print(lassBig.score(X2_test, y_test))\n",
    "origparams = np.append(lassBig.coef_, lassBig.intercept_)\n",
    "print('\\nParameter estimates for the model with many features:')\n",
    "print(origparams)"
   ]
  }
 ],
 "metadata": {
  "kernelspec": {
   "display_name": "Python 3",
   "language": "python",
   "name": "python3"
  },
  "language_info": {
   "codemirror_mode": {
    "name": "ipython",
    "version": 3
   },
   "file_extension": ".py",
   "mimetype": "text/x-python",
   "name": "python",
   "nbconvert_exporter": "python",
   "pygments_lexer": "ipython3",
   "version": "3.6.7"
  }
 },
 "nbformat": 4,
 "nbformat_minor": 2
}
