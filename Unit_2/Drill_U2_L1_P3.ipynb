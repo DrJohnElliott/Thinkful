{
 "cells": [
  {
   "cell_type": "markdown",
   "metadata": {},
   "source": [
    "Categorize each of the following research questions as \"good\" or \"bad\", and provide alternative formulations for the bad ones. Save your responses in a document of some kind, submit a link below, and discuss your reasoning with your mentor.\n",
    "\n",
    "\n",
    "\n",
    "1) What is the 1994 rate of juvenile delinquency in the U.S.?\n",
    "\n",
    "<br> Good - specific question. defined date, location and question\n",
    "\n",
    "\n",
    "\n",
    "2) What can we do to reduce juvenile delinquency in the U.S.?\n",
    "\n",
    "<br> Bad - not a defined topic for comparison - broad question.\n",
    "\n",
    "<br> Does after school sports reduce juvenile delinquency \n",
    "\n",
    "\n",
    "\n",
    "3) Does education play a role in reducing juvenile delinquents' return to crime? <br> Good - specific comparison\n",
    "\n",
    "\n",
    "\n",
    "4) How many customers does AT&T currently serve in Washington, DC?\n",
    "\n",
    "<br> Good specific topic \n",
    "\n",
    "\n",
    "\n",
    "5) What factors lead consumers to choose AT&T over other service providers?\n",
    "\n",
    "<br> Bad - broad general question <br> Does pricing lead customer to choose AT&T\n",
    "\n",
    "\n",
    "\n",
    "6) How can AT&T attract more customers? <br> Bad - General question no defined comparison to check <br> Do pricing campaigns attract more customers.\n",
    "\n",
    "\n",
    "\n",
    "7) Why did the Challenger Shuttle explode? <br> Bad - General question as many factors led to the disaster. <br> Did weather contribute to the challenger disaster.\n",
    "\n",
    "\n",
    "\n",
    "8) Which genes are associated with increased risk of breast cancer? <br> Bad - assumes we know all the genes that are associated with breast cancer. <br> what percentage of breast cancer patients have BRCA 1 & 2 gene expression?\n",
    "\n",
    "\n",
    "\n",
    "9) Is it better to read to children at night or in the morning? <br> Bad - undefined outcome. <br> Do children sleep better when read to at night.\n",
    "\n",
    "\n",
    "\n",
    "10) How does Google’s search algorithm work? <br> Bad - Broad question as there are many facets to how it works. <br> How may experiments did Google run in 2016 to improve the search engine? \n",
    "\n"
   ]
  }
 ],
 "metadata": {
  "kernelspec": {
   "display_name": "Python 3",
   "language": "python",
   "name": "python3"
  },
  "language_info": {
   "codemirror_mode": {
    "name": "ipython",
    "version": 3
   },
   "file_extension": ".py",
   "mimetype": "text/x-python",
   "name": "python",
   "nbconvert_exporter": "python",
   "pygments_lexer": "ipython3",
   "version": "3.6.7"
  }
 },
 "nbformat": 4,
 "nbformat_minor": 2
}
